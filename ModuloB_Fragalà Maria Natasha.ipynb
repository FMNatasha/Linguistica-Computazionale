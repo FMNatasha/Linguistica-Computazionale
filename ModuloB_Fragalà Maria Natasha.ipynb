{
 "cells": [
  {
   "cell_type": "markdown",
   "metadata": {},
   "source": [
    "# Progetto Linguistica Computazionale (Modulo B)\n",
    "## INTRODUZIONE  \n",
    "\n",
    "Questo progetto nasce come estensione del lavoro svolto nella mia **tesi di laurea** triennale. Nel capitolo 4 di essa, ho descritto la parte sperimentale, in cui ho raccolto manualmente una serie di commenti dal [**Forum dei Brutti**](https://ilforumdeibrutti.is/). Le conversazioni selezionate avevano come tema centrale le **app di dating** (come Tinder, Hinge, Bumble, ecc.), e i commenti sono stati selezionati e salvati in un *file Excel*: \"**Analisi chat FDB_Tesi**\".\n",
    "\n",
    "Su questi commenti è stata effettuata un'**annotazione manuale** in cui ho identificato:\n",
    "- il **sentiment** espresso (positivo, negativo, neutro),\n",
    "- le **tematiche principali** (affidabilità, inganno, costo, utilità),\n",
    "- le **emozioni** sottostanti (speranza, scetticismo, frustrazione).\n",
    "\n",
    "Successivamente, nel mese di *maggio 2025*, è stato sviluppato un **codebook** questo definisce con precisione i criteri di annotazione relativi a *sentiment, tematiche ed emozioni*, e ci ha permesso di mantenere una coerenza metodologica durante l’annotazione manuale.\n",
    "\n",
    "Questo strumento, che useremo anche come base per le classificazioni di questo progetto, è stato elaborato insieme alla Dottoranda *Selenia Anastasi* per un  **paper** collegato alla mia tesi.\n",
    "Il lavoro, dal titolo **\"Tinder is overrated\": Neoliberal Affective Economies in an Italian Incel Forum**, è stato accettato per la conferenza internazionale [**CMC 2025**](https://www.cmc2025.uni-bayreuth.de/en/index.html). \n",
    "\n",
    "---\n",
    "### Obiettivo di questo progetto\n",
    "\n",
    "L’obiettivo di questo notebook è replicare, in forma automatizzata, parte dell’analisi svolta manualmente, strutturando il lavoro in **tre fasi principali**:\n",
    "\n",
    "1. **Analisi del sentiment** tramite Word2Vec e Word2Vec locale,\n",
    "2. **Individuazione delle tematiche** con Sentence Transformer (modello: distiluse-base-multilingual-cased-v1),\n",
    "3. **Riconoscimento delle emozioni** con Sentence Transformer (modello: paraphrase-albert-small-v2).\n",
    "\n",
    "Al termine **confronteremo i risultati ottenuti automaticamente con quelli dell’annotazione manuale**, per valutare il grado di corrispondenza tra gli approcci e capire quali aspetti si prestano maggiormente a essere rilevati tramite strumenti di NLP, e quali invece risultano più complessi da automatizzare."
   ]
  },
  {
   "cell_type": "markdown",
   "metadata": {},
   "source": [
    "## 1. ANALISI DEL SENTIMENT"
   ]
  },
  {
   "cell_type": "code",
   "execution_count": null,
   "metadata": {
    "execution": {
     "iopub.execute_input": "2025-06-26T07:17:54.876153Z",
     "iopub.status.busy": "2025-06-26T07:17:54.875889Z",
     "iopub.status.idle": "2025-06-26T07:19:46.464566Z",
     "shell.execute_reply": "2025-06-26T07:19:46.463757Z",
     "shell.execute_reply.started": "2025-06-26T07:17:54.876132Z"
    },
    "trusted": true
   },
   "outputs": [
    {
     "name": "stdout",
     "output_type": "stream",
     "text": [
      "Requirement already satisfied: kagglehub[pandas-datasets] in /usr/local/lib/python3.11/dist-packages (0.3.12)\n",
      "Requirement already satisfied: packaging in /usr/local/lib/python3.11/dist-packages (from kagglehub[pandas-datasets]) (25.0)\n",
      "Requirement already satisfied: pyyaml in /usr/local/lib/python3.11/dist-packages (from kagglehub[pandas-datasets]) (6.0.2)\n",
      "Requirement already satisfied: requests in /usr/local/lib/python3.11/dist-packages (from kagglehub[pandas-datasets]) (2.32.3)\n",
      "Requirement already satisfied: tqdm in /usr/local/lib/python3.11/dist-packages (from kagglehub[pandas-datasets]) (4.67.1)\n",
      "Requirement already satisfied: pandas in /usr/local/lib/python3.11/dist-packages (from kagglehub[pandas-datasets]) (2.2.3)\n",
      "Requirement already satisfied: numpy>=1.23.2 in /usr/local/lib/python3.11/dist-packages (from pandas->kagglehub[pandas-datasets]) (1.26.4)\n",
      "Requirement already satisfied: python-dateutil>=2.8.2 in /usr/local/lib/python3.11/dist-packages (from pandas->kagglehub[pandas-datasets]) (2.9.0.post0)\n",
      "Requirement already satisfied: pytz>=2020.1 in /usr/local/lib/python3.11/dist-packages (from pandas->kagglehub[pandas-datasets]) (2025.2)\n",
      "Requirement already satisfied: tzdata>=2022.7 in /usr/local/lib/python3.11/dist-packages (from pandas->kagglehub[pandas-datasets]) (2025.2)\n",
      "Requirement already satisfied: charset-normalizer<4,>=2 in /usr/local/lib/python3.11/dist-packages (from requests->kagglehub[pandas-datasets]) (3.4.2)\n",
      "Requirement already satisfied: idna<4,>=2.5 in /usr/local/lib/python3.11/dist-packages (from requests->kagglehub[pandas-datasets]) (3.10)\n",
      "Requirement already satisfied: urllib3<3,>=1.21.1 in /usr/local/lib/python3.11/dist-packages (from requests->kagglehub[pandas-datasets]) (2.4.0)\n",
      "Requirement already satisfied: certifi>=2017.4.17 in /usr/local/lib/python3.11/dist-packages (from requests->kagglehub[pandas-datasets]) (2025.4.26)\n",
      "Requirement already satisfied: mkl_fft in /usr/local/lib/python3.11/dist-packages (from numpy>=1.23.2->pandas->kagglehub[pandas-datasets]) (1.3.8)\n",
      "Requirement already satisfied: mkl_random in /usr/local/lib/python3.11/dist-packages (from numpy>=1.23.2->pandas->kagglehub[pandas-datasets]) (1.2.4)\n",
      "Requirement already satisfied: mkl_umath in /usr/local/lib/python3.11/dist-packages (from numpy>=1.23.2->pandas->kagglehub[pandas-datasets]) (0.1.1)\n",
      "Requirement already satisfied: mkl in /usr/local/lib/python3.11/dist-packages (from numpy>=1.23.2->pandas->kagglehub[pandas-datasets]) (2025.1.0)\n",
      "Requirement already satisfied: tbb4py in /usr/local/lib/python3.11/dist-packages (from numpy>=1.23.2->pandas->kagglehub[pandas-datasets]) (2022.1.0)\n",
      "Requirement already satisfied: mkl-service in /usr/local/lib/python3.11/dist-packages (from numpy>=1.23.2->pandas->kagglehub[pandas-datasets]) (2.4.1)\n",
      "Requirement already satisfied: six>=1.5 in /usr/local/lib/python3.11/dist-packages (from python-dateutil>=2.8.2->pandas->kagglehub[pandas-datasets]) (1.17.0)\n",
      "Requirement already satisfied: intel-openmp<2026,>=2024 in /usr/local/lib/python3.11/dist-packages (from mkl->numpy>=1.23.2->pandas->kagglehub[pandas-datasets]) (2024.2.0)\n",
      "Requirement already satisfied: tbb==2022.* in /usr/local/lib/python3.11/dist-packages (from mkl->numpy>=1.23.2->pandas->kagglehub[pandas-datasets]) (2022.1.0)\n",
      "Requirement already satisfied: tcmlib==1.* in /usr/local/lib/python3.11/dist-packages (from tbb==2022.*->mkl->numpy>=1.23.2->pandas->kagglehub[pandas-datasets]) (1.3.0)\n",
      "Requirement already satisfied: intel-cmplr-lib-rt in /usr/local/lib/python3.11/dist-packages (from mkl_umath->numpy>=1.23.2->pandas->kagglehub[pandas-datasets]) (2024.2.0)\n",
      "Requirement already satisfied: intel-cmplr-lib-ur==2024.2.0 in /usr/local/lib/python3.11/dist-packages (from intel-openmp<2026,>=2024->mkl->numpy>=1.23.2->pandas->kagglehub[pandas-datasets]) (2024.2.0)\n",
      "Collecting it-core-news-sm==3.8.0\n",
      "  Downloading https://github.com/explosion/spacy-models/releases/download/it_core_news_sm-3.8.0/it_core_news_sm-3.8.0-py3-none-any.whl (13.0 MB)\n",
      "\u001b[2K     \u001b[90m━━━━━━━━━━━━━━━━━━━━━━━━━━━━━━━━━━━━━━━━\u001b[0m \u001b[32m13.0/13.0 MB\u001b[0m \u001b[31m86.9 MB/s\u001b[0m eta \u001b[36m0:00:00\u001b[0m:00:01\u001b[0m0:01\u001b[0m\n",
      "\u001b[?25hInstalling collected packages: it-core-news-sm\n",
      "Successfully installed it-core-news-sm-3.8.0\n",
      "\u001b[38;5;2m✔ Download and installation successful\u001b[0m\n",
      "You can now load the package via spacy.load('it_core_news_sm')\n",
      "\u001b[38;5;3m⚠ Restart to reload dependencies\u001b[0m\n",
      "If you are in a Jupyter or Colab notebook, you may need to restart Python in\n",
      "order to load all the package's dependencies. You can do this by selecting the\n",
      "'Restart kernel' or 'Restart runtime' option.\n",
      "\u001b[2K   \u001b[90m━━━━━━━━━━━━━━━━━━━━━━━━━━━━━━━━━━━━━━━━\u001b[0m \u001b[32m363.4/363.4 MB\u001b[0m \u001b[31m4.6 MB/s\u001b[0m eta \u001b[36m0:00:00\u001b[0m0:00:01\u001b[0m00:01\u001b[0m\n",
      "\u001b[2K   \u001b[90m━━━━━━━━━━━━━━━━━━━━━━━━━━━━━━━━━━━━━━━━\u001b[0m \u001b[32m664.8/664.8 MB\u001b[0m \u001b[31m2.5 MB/s\u001b[0m eta \u001b[36m0:00:00\u001b[0m0:00:01\u001b[0m00:01\u001b[0m\n",
      "\u001b[2K   \u001b[90m━━━━━━━━━━━━━━━━━━━━━━━━━━━━━━━━━━━━━━━━\u001b[0m \u001b[32m211.5/211.5 MB\u001b[0m \u001b[31m5.6 MB/s\u001b[0m eta \u001b[36m0:00:00\u001b[0m0:00:01\u001b[0m00:01\u001b[0m\n",
      "\u001b[2K   \u001b[90m━━━━━━━━━━━━━━━━━━━━━━━━━━━━━━━━━━━━━━━━\u001b[0m \u001b[32m56.3/56.3 MB\u001b[0m \u001b[31m30.4 MB/s\u001b[0m eta \u001b[36m0:00:00\u001b[0m:00:01\u001b[0m00:01\u001b[0m\n",
      "\u001b[2K   \u001b[90m━━━━━━━━━━━━━━━━━━━━━━━━━━━━━━━━━━━━━━━━\u001b[0m \u001b[32m127.9/127.9 MB\u001b[0m \u001b[31m13.2 MB/s\u001b[0m eta \u001b[36m0:00:00\u001b[0m:00:01\u001b[0m00:01\u001b[0m\n",
      "\u001b[2K   \u001b[90m━━━━━━━━━━━━━━━━━━━━━━━━━━━━━━━━━━━━━━━━\u001b[0m \u001b[32m207.5/207.5 MB\u001b[0m \u001b[31m2.1 MB/s\u001b[0m eta \u001b[36m0:00:00\u001b[0m0:00:01\u001b[0m00:01\u001b[0m\n",
      "\u001b[2K   \u001b[90m━━━━━━━━━━━━━━━━━━━━━━━━━━━━━━━━━━━━━━━━\u001b[0m \u001b[32m21.1/21.1 MB\u001b[0m \u001b[31m82.3 MB/s\u001b[0m eta \u001b[36m0:00:00\u001b[0m:00:01\u001b[0m00:01\u001b[0m\n",
      "\u001b[?25h"
     ]
    }
   ],
   "source": [
    "!pip install kagglehub[pandas-datasets]\n",
    "!python -m spacy download it_core_news_sm\n",
    "!pip install -q sentence-transformers\n",
    "!pip install -q scikit-learn"
   ]
  },
  {
   "cell_type": "markdown",
   "metadata": {},
   "source": [
    "### Le librerie utilizzate:\n",
    "- `Pandas`: per la  gestione DataFrame;\n",
    "- `SpaCy`: per la Tokenizzazione, POS tagging, stopword removal, lemmatizzazione;\n",
    "- `It_core_news_sm`: perché il nostro dataset è in lingua italiana;\n",
    "- `Emoji`: Rimozione dei simboli grafici (faccine, simboli Unicode, ecc.);\n",
    "- `Gensim`: (api) per scaricare e utilizzare modelli preaddestrati Word2Vec (es.glove-wiki-gigaword-50);\n",
    "- `Word2Vec`(da gensim.models): per l’addestramento di un modello personalizzato Word2Vec sui commenti del dataset;\n",
    "- `NumPy`: è una libreria per lavorare con array di numeri e fare calcoli matematici veloci;\n",
    "- `Argmax`: per trovare l’indice del valore massimo in un array o in una lista;\n",
    "- `Matplotlib` e `Seaborn`: per la creazione dei grafici;\n",
    "- `Os`: consente di interagire con il sistema operativo."
   ]
  },
  {
   "cell_type": "code",
   "execution_count": null,
   "metadata": {
    "execution": {
     "iopub.execute_input": "2025-06-26T07:21:19.397029Z",
     "iopub.status.busy": "2025-06-26T07:21:19.396829Z",
     "iopub.status.idle": "2025-06-26T07:21:19.418724Z",
     "shell.execute_reply": "2025-06-26T07:21:19.418210Z",
     "shell.execute_reply.started": "2025-06-26T07:21:19.397014Z"
    },
    "trusted": true
   },
   "outputs": [],
   "source": [
    "import pandas as pd\n",
    "import spacy\n",
    "import it_core_news_sm\n",
    "import emoji\n",
    "import gensim.downloader as api\n",
    "from gensim.models import Word2Vec\n",
    "import numpy as np\n",
    "from numpy import argmax\n",
    "import matplotlib.pyplot as plt\n",
    "import seaborn as sns\n",
    "import matplotlib.colors \n",
    "\n",
    "import os\n",
    "os.environ[\"TOKENIZERS_PARALLELISM\"] = \"false\" #dopo l’installazione delle librerie, \n",
    "#ho disabilitato il parallelismo dei tokenizer, come suggerito nel messaggio di WARNING stesso. "
   ]
  },
  {
   "cell_type": "code",
   "execution_count": null,
   "metadata": {
    "execution": {
     "iopub.execute_input": "2025-06-26T07:21:48.368570Z",
     "iopub.status.busy": "2025-06-26T07:21:48.368196Z",
     "iopub.status.idle": "2025-06-26T07:21:49.065263Z",
     "shell.execute_reply": "2025-06-26T07:21:49.064645Z",
     "shell.execute_reply.started": "2025-06-26T07:21:48.368548Z"
    },
    "trusted": true
   },
   "outputs": [
    {
     "name": "stdout",
     "output_type": "stream",
     "text": [
      "Le prime righe del dataset:\n"
     ]
    },
    {
     "data": {
      "text/html": [
       "<div>\n",
       "<style scoped>\n",
       "    .dataframe tbody tr th:only-of-type {\n",
       "        vertical-align: middle;\n",
       "    }\n",
       "\n",
       "    .dataframe tbody tr th {\n",
       "        vertical-align: top;\n",
       "    }\n",
       "\n",
       "    .dataframe thead th {\n",
       "        text-align: right;\n",
       "    }\n",
       "</style>\n",
       "<table border=\"1\" class=\"dataframe\">\n",
       "  <thead>\n",
       "    <tr style=\"text-align: right;\">\n",
       "      <th></th>\n",
       "      <th>Commenti</th>\n",
       "    </tr>\n",
       "  </thead>\n",
       "  <tbody>\n",
       "    <tr>\n",
       "      <th>0</th>\n",
       "      <td>riapro questo topic qui, il tema è stato più v...</td>\n",
       "    </tr>\n",
       "    <tr>\n",
       "      <th>1</th>\n",
       "      <td>Andrò controcorrente evitando di dire che se n...</td>\n",
       "    </tr>\n",
       "    <tr>\n",
       "      <th>2</th>\n",
       "      <td>Su tinder devi avere il gold o il platino ma d...</td>\n",
       "    </tr>\n",
       "    <tr>\n",
       "      <th>3</th>\n",
       "      <td>Si tutti scam, ci sono stati anche dei servizi...</td>\n",
       "    </tr>\n",
       "    <tr>\n",
       "      <th>4</th>\n",
       "      <td>Peggio che nella vita reale, in queste app i r...</td>\n",
       "    </tr>\n",
       "  </tbody>\n",
       "</table>\n",
       "</div>"
      ],
      "text/plain": [
       "                                            Commenti\n",
       "0  riapro questo topic qui, il tema è stato più v...\n",
       "1  Andrò controcorrente evitando di dire che se n...\n",
       "2  Su tinder devi avere il gold o il platino ma d...\n",
       "3  Si tutti scam, ci sono stati anche dei servizi...\n",
       "4  Peggio che nella vita reale, in queste app i r..."
      ]
     },
     "execution_count": 7,
     "metadata": {},
     "output_type": "execute_result"
    }
   ],
   "source": [
    "nlp = spacy.load(\"it_core_news_sm\") #Equivalente: nlp = it_core_news_sm.load()\n",
    "\n",
    "#Per leggere i dati utilizziamo la funzione della libreria pandas: pd.read_csv()\n",
    "percorso_file = \"/kaggle/input/dataset-fdb/Dataset_FDB.csv\"\n",
    "df = pd.read_csv(percorso_file)\n",
    "print(\"Le prime righe del dataset:\")\n",
    "df.head()"
   ]
  },
  {
   "cell_type": "markdown",
   "metadata": {},
   "source": [
    "### Liste di parole-chiave (positive, negative)\n",
    "Nella prossima cella definiamo **due liste di parole**, queste contengono delle parole (estratte e associate manualmente) che utilizzeremo come riferimento per ciascuna categoria di sentiment. Successivamente, queste liste verranno utilizzate nella fase di calcolo della similarità per confrontare i token dei commenti con ciascuna categoria.\n",
    "\n",
    "Le liste contengono anche *termini, abbreviazioni e sigle* tipiche del *linguaggio* usato dagli utenti nel forum analizzato.  \n",
    "Questi elementi sono stati inseriti nelle rispettive liste tenendo conto del **significato** che assumono all'interno di quel contesto specifico e **in base al modo** in cui vengono utilizzati dagli utenti stessi.\n"
   ]
  },
  {
   "cell_type": "code",
   "execution_count": null,
   "metadata": {
    "execution": {
     "iopub.execute_input": "2025-06-26T07:21:59.971017Z",
     "iopub.status.busy": "2025-06-26T07:21:59.970737Z",
     "iopub.status.idle": "2025-06-26T07:21:59.977761Z",
     "shell.execute_reply": "2025-06-26T07:21:59.976859Z",
     "shell.execute_reply.started": "2025-06-26T07:21:59.970996Z"
    },
    "trusted": true
   },
   "outputs": [
    {
     "name": "stdout",
     "output_type": "stream",
     "text": [
      "Parole positive:45\n",
      "___ \n",
      "\n",
      "Parole negative:45\n"
     ]
    }
   ],
   "source": [
    "#es.Chad - Stacy - Prime - Match.\n",
    "parole_positive = [\"piace\", \"bene\", \"chad\", \"sicuramente\",\"funzionano\",\"bello\", \"gold\",\"funziona\", \"successo\", \"speranza\", \n",
    "                   \"carina\",\"vantaggio\", \"stacy\", \"prime\", \"buona\", \"bellezza\", \"ottieni\", \"ideale\", \"benissimo\", \"vincere\",\n",
    "                   \"supermatch\", \"match\", \"matchasti\",\"super\",\"soddisfazioni\", \"provarci\", \"preferenza\", \"pace\", \"nuovo\",\n",
    "                   \"merito\", \"meraviglia\",\"interesse\", \"interessanti\", \"innamorata\",\"giusto\", \"free\", \"fortuna\",\"efficace\",\n",
    "                   \"bravo\", \"bravissimo\", \"attraente\", \"appetibile\",\"appagante\", \"adatta\", \"accettano\"]\n",
    "\n",
    "#es.Np - Belloccio - Sub - Normaloide - Megere - Ipergamia - Wallata - Vaginomunite - Oldcel.\n",
    "parole_negative = [\"np\", \"cazzo\", \"scam\", \"scopare\", \"fake\",\"arpie\", \"spastiche\",\"belloccio\", \"sub\", \"normaloide\", \n",
    "                   \"megere\", \"ghostato\",\"coglioni\", \"racchie\",\"puttane\", \"normie\", \"minchia\", \"ipergamia\", \"ghosting\", \n",
    "                   \"feccia\",\"zoccole\", \"wallata\",\"obese\",\"vaginemunite\", \"troie\", \"torturarsi\",\"swappano\", \"subumani\", \n",
    "                   \"socialona\", \"sfruttati\",\"sfanculata\",\"scassacazzo\", \"satana\", \"rincoglionite\",\"pecoroni\", \"oldcel\", \n",
    "                   \"normies\", \"muscolati\",\"moggarle\", \"minkiate\", \"ipergamare\", \"incellone\", \"false\", \"egoboostare\", \"celebrolese\"]\n",
    "\n",
    "print(f\"Parole positive:{len(parole_positive)}\")\n",
    "print(\"___ \\n\")\n",
    "print(f\"Parole negative:{len(parole_negative)}\") "
   ]
  },
  {
   "cell_type": "markdown",
   "metadata": {},
   "source": [
    "### Pulizia del dataset\n",
    "#### 1.1 Minuscolo\n",
    "Analizzando il dataset che abbiamo deciso di prendere come riferimento, prima di procedere con l'utilizzo del **modello Word2Vec** è necessario svolgere alcune operazioni di **preprocessing linguistico**.\n",
    "Il primo passo è la *normalizzazione del testo*, iniziamo la conversione di tutti i commenti in minuscolo, così da uniformare parole che, pur essendo identiche nel significato, differiscono solo per l’uso delle maiuscole."
   ]
  },
  {
   "cell_type": "code",
   "execution_count": null,
   "metadata": {
    "execution": {
     "iopub.execute_input": "2025-06-26T07:22:03.073585Z",
     "iopub.status.busy": "2025-06-26T07:22:03.072601Z",
     "iopub.status.idle": "2025-06-26T07:22:03.106990Z",
     "shell.execute_reply": "2025-06-26T07:22:03.106441Z",
     "shell.execute_reply.started": "2025-06-26T07:22:03.073551Z"
    },
    "trusted": true
   },
   "outputs": [
    {
     "data": {
      "text/html": [
       "<div>\n",
       "<style scoped>\n",
       "    .dataframe tbody tr th:only-of-type {\n",
       "        vertical-align: middle;\n",
       "    }\n",
       "\n",
       "    .dataframe tbody tr th {\n",
       "        vertical-align: top;\n",
       "    }\n",
       "\n",
       "    .dataframe thead th {\n",
       "        text-align: right;\n",
       "    }\n",
       "</style>\n",
       "<table border=\"1\" class=\"dataframe\">\n",
       "  <thead>\n",
       "    <tr style=\"text-align: right;\">\n",
       "      <th></th>\n",
       "      <th>Commenti</th>\n",
       "      <th>Minuscolo</th>\n",
       "    </tr>\n",
       "  </thead>\n",
       "  <tbody>\n",
       "    <tr>\n",
       "      <th>0</th>\n",
       "      <td>riapro questo topic qui, il tema è stato più v...</td>\n",
       "      <td>riapro questo topic qui, il tema è stato più v...</td>\n",
       "    </tr>\n",
       "    <tr>\n",
       "      <th>1</th>\n",
       "      <td>Andrò controcorrente evitando di dire che se n...</td>\n",
       "      <td>andrò controcorrente evitando di dire che se n...</td>\n",
       "    </tr>\n",
       "    <tr>\n",
       "      <th>2</th>\n",
       "      <td>Su tinder devi avere il gold o il platino ma d...</td>\n",
       "      <td>su tinder devi avere il gold o il platino ma d...</td>\n",
       "    </tr>\n",
       "    <tr>\n",
       "      <th>3</th>\n",
       "      <td>Si tutti scam, ci sono stati anche dei servizi...</td>\n",
       "      <td>si tutti scam, ci sono stati anche dei servizi...</td>\n",
       "    </tr>\n",
       "    <tr>\n",
       "      <th>4</th>\n",
       "      <td>Peggio che nella vita reale, in queste app i r...</td>\n",
       "      <td>peggio che nella vita reale, in queste app i r...</td>\n",
       "    </tr>\n",
       "    <tr>\n",
       "      <th>...</th>\n",
       "      <td>...</td>\n",
       "      <td>...</td>\n",
       "    </tr>\n",
       "    <tr>\n",
       "      <th>207</th>\n",
       "      <td>Io mi ritrovai con una che non mi piaceva e le...</td>\n",
       "      <td>io mi ritrovai con una che non mi piaceva e le...</td>\n",
       "    </tr>\n",
       "    <tr>\n",
       "      <th>208</th>\n",
       "      <td>Capitato ormai anni fa…lei carina mentre io in...</td>\n",
       "      <td>capitato ormai anni fa…lei carina mentre io in...</td>\n",
       "    </tr>\n",
       "    <tr>\n",
       "      <th>209</th>\n",
       "      <td>Io conosciuto una su Badoo anni e anni fa e mi...</td>\n",
       "      <td>io conosciuto una su badoo anni e anni fa e mi...</td>\n",
       "    </tr>\n",
       "    <tr>\n",
       "      <th>210</th>\n",
       "      <td>Il tempo di vedermi e si infilò nella smart pe...</td>\n",
       "      <td>il tempo di vedermi e si infilò nella smart pe...</td>\n",
       "    </tr>\n",
       "    <tr>\n",
       "      <th>211</th>\n",
       "      <td>anni fa, avevo 19 20 anni, KV, ho conosciuto u...</td>\n",
       "      <td>anni fa, avevo 19 20 anni, kv, ho conosciuto u...</td>\n",
       "    </tr>\n",
       "  </tbody>\n",
       "</table>\n",
       "<p>212 rows × 2 columns</p>\n",
       "</div>"
      ],
      "text/plain": [
       "                                              Commenti  \\\n",
       "0    riapro questo topic qui, il tema è stato più v...   \n",
       "1    Andrò controcorrente evitando di dire che se n...   \n",
       "2    Su tinder devi avere il gold o il platino ma d...   \n",
       "3    Si tutti scam, ci sono stati anche dei servizi...   \n",
       "4    Peggio che nella vita reale, in queste app i r...   \n",
       "..                                                 ...   \n",
       "207  Io mi ritrovai con una che non mi piaceva e le...   \n",
       "208  Capitato ormai anni fa…lei carina mentre io in...   \n",
       "209  Io conosciuto una su Badoo anni e anni fa e mi...   \n",
       "210  Il tempo di vedermi e si infilò nella smart pe...   \n",
       "211  anni fa, avevo 19 20 anni, KV, ho conosciuto u...   \n",
       "\n",
       "                                             Minuscolo  \n",
       "0    riapro questo topic qui, il tema è stato più v...  \n",
       "1    andrò controcorrente evitando di dire che se n...  \n",
       "2    su tinder devi avere il gold o il platino ma d...  \n",
       "3    si tutti scam, ci sono stati anche dei servizi...  \n",
       "4    peggio che nella vita reale, in queste app i r...  \n",
       "..                                                 ...  \n",
       "207  io mi ritrovai con una che non mi piaceva e le...  \n",
       "208  capitato ormai anni fa…lei carina mentre io in...  \n",
       "209  io conosciuto una su badoo anni e anni fa e mi...  \n",
       "210  il tempo di vedermi e si infilò nella smart pe...  \n",
       "211  anni fa, avevo 19 20 anni, kv, ho conosciuto u...  \n",
       "\n",
       "[212 rows x 2 columns]"
      ]
     },
     "metadata": {},
     "output_type": "display_data"
    },
    {
     "name": "stdout",
     "output_type": "stream",
     "text": [
      "___ \n",
      "\n",
      "File salvato: Dataset_FDB_aggiornato.csv\n"
     ]
    }
   ],
   "source": [
    "df[\"Minuscolo\"] = df[\"Commenti\"].str.lower()\n",
    "display(df[[\"Commenti\", \"Minuscolo\"]]) #.head(7)) #--> visualizziamo le prime 7,si parte da 0.\n",
    "\n",
    "df.to_csv(\"Dataset_FDB_aggiornato.csv\", index=False, encoding=\"utf-8\")\n",
    "print(\"___ \\n\")\n",
    "print(\"File salvato: Dataset_FDB_aggiornato.csv\")"
   ]
  },
  {
   "cell_type": "markdown",
   "metadata": {},
   "source": [
    "#### 1.2 Emoji\n",
    "I commenti che stiamo analizzando provengono da un **forum**, ovvero un contesto informale in cui è **frequente l’utilizzo di emoji e simboli grafici**.\n",
    "Questi elementi non rientrano tra le informazioni linguistiche che intendiamo analizzare, per questo procediamo con la loro rimozione.\n",
    "\n",
    "Nel processo di pulizia del testo si poteva utilizzare anche la libreria delle **espressioni regolari (re)* *(stringhe speciali che definiscono un modello (pattern) da cercare in testi. Vengono usate per filtrare, validare, trovare o sostituire porzioni di testo)*, in questo caso avremmo scritto:\n",
    "\n",
    "**import re**   \n",
    "...  \n",
    "**df[\"no_emoji\"] = [re.sub(r'[^\\w\\s]', '', t) for t in df[\"Minuscolo\"]]**  \n",
    "\n",
    "*#Per lavorare con Dataset su/con pandas*  \n",
    "**df[\"no_emoji\"] = df[\"no_emoji\"].str.replace(r'[^\\w\\s]', '', regex=True)**   \n",
    "...  \n",
    "\n",
    "Questo avrebbe rimosso tutti i **caratteri** che **NON sono lettere, numeri o spazi**, quindi anche la punteggiatura, ma quest'ultima volevo eliminarla utilizzando spacy. In generale, ho preferito utilizzare la liberia emoji perchè è progettata appositamente per riconoscerli e rimuoverli in modo preciso. "
   ]
  },
  {
   "cell_type": "code",
   "execution_count": null,
   "metadata": {
    "execution": {
     "iopub.execute_input": "2025-06-26T07:22:06.373734Z",
     "iopub.status.busy": "2025-06-26T07:22:06.373452Z",
     "iopub.status.idle": "2025-06-26T07:22:06.459774Z",
     "shell.execute_reply": "2025-06-26T07:22:06.459121Z",
     "shell.execute_reply.started": "2025-06-26T07:22:06.373714Z"
    },
    "trusted": true
   },
   "outputs": [
    {
     "data": {
      "text/html": [
       "<div>\n",
       "<style scoped>\n",
       "    .dataframe tbody tr th:only-of-type {\n",
       "        vertical-align: middle;\n",
       "    }\n",
       "\n",
       "    .dataframe tbody tr th {\n",
       "        vertical-align: top;\n",
       "    }\n",
       "\n",
       "    .dataframe thead th {\n",
       "        text-align: right;\n",
       "    }\n",
       "</style>\n",
       "<table border=\"1\" class=\"dataframe\">\n",
       "  <thead>\n",
       "    <tr style=\"text-align: right;\">\n",
       "      <th></th>\n",
       "      <th>Commenti</th>\n",
       "      <th>Minuscolo</th>\n",
       "      <th>No_emoji</th>\n",
       "    </tr>\n",
       "  </thead>\n",
       "  <tbody>\n",
       "    <tr>\n",
       "      <th>0</th>\n",
       "      <td>riapro questo topic qui, il tema è stato più v...</td>\n",
       "      <td>riapro questo topic qui, il tema è stato più v...</td>\n",
       "      <td>riapro questo topic qui, il tema è stato più v...</td>\n",
       "    </tr>\n",
       "    <tr>\n",
       "      <th>1</th>\n",
       "      <td>Andrò controcorrente evitando di dire che se n...</td>\n",
       "      <td>andrò controcorrente evitando di dire che se n...</td>\n",
       "      <td>andrò controcorrente evitando di dire che se n...</td>\n",
       "    </tr>\n",
       "    <tr>\n",
       "      <th>2</th>\n",
       "      <td>Su tinder devi avere il gold o il platino ma d...</td>\n",
       "      <td>su tinder devi avere il gold o il platino ma d...</td>\n",
       "      <td>su tinder devi avere il gold o il platino ma d...</td>\n",
       "    </tr>\n",
       "    <tr>\n",
       "      <th>3</th>\n",
       "      <td>Si tutti scam, ci sono stati anche dei servizi...</td>\n",
       "      <td>si tutti scam, ci sono stati anche dei servizi...</td>\n",
       "      <td>si tutti scam, ci sono stati anche dei servizi...</td>\n",
       "    </tr>\n",
       "    <tr>\n",
       "      <th>4</th>\n",
       "      <td>Peggio che nella vita reale, in queste app i r...</td>\n",
       "      <td>peggio che nella vita reale, in queste app i r...</td>\n",
       "      <td>peggio che nella vita reale, in queste app i r...</td>\n",
       "    </tr>\n",
       "    <tr>\n",
       "      <th>...</th>\n",
       "      <td>...</td>\n",
       "      <td>...</td>\n",
       "      <td>...</td>\n",
       "    </tr>\n",
       "    <tr>\n",
       "      <th>207</th>\n",
       "      <td>Io mi ritrovai con una che non mi piaceva e le...</td>\n",
       "      <td>io mi ritrovai con una che non mi piaceva e le...</td>\n",
       "      <td>io mi ritrovai con una che non mi piaceva e le...</td>\n",
       "    </tr>\n",
       "    <tr>\n",
       "      <th>208</th>\n",
       "      <td>Capitato ormai anni fa…lei carina mentre io in...</td>\n",
       "      <td>capitato ormai anni fa…lei carina mentre io in...</td>\n",
       "      <td>capitato ormai anni fa…lei carina mentre io in...</td>\n",
       "    </tr>\n",
       "    <tr>\n",
       "      <th>209</th>\n",
       "      <td>Io conosciuto una su Badoo anni e anni fa e mi...</td>\n",
       "      <td>io conosciuto una su badoo anni e anni fa e mi...</td>\n",
       "      <td>io conosciuto una su badoo anni e anni fa e mi...</td>\n",
       "    </tr>\n",
       "    <tr>\n",
       "      <th>210</th>\n",
       "      <td>Il tempo di vedermi e si infilò nella smart pe...</td>\n",
       "      <td>il tempo di vedermi e si infilò nella smart pe...</td>\n",
       "      <td>il tempo di vedermi e si infilò nella smart pe...</td>\n",
       "    </tr>\n",
       "    <tr>\n",
       "      <th>211</th>\n",
       "      <td>anni fa, avevo 19 20 anni, KV, ho conosciuto u...</td>\n",
       "      <td>anni fa, avevo 19 20 anni, kv, ho conosciuto u...</td>\n",
       "      <td>anni fa, avevo 19 20 anni, kv, ho conosciuto u...</td>\n",
       "    </tr>\n",
       "  </tbody>\n",
       "</table>\n",
       "<p>212 rows × 3 columns</p>\n",
       "</div>"
      ],
      "text/plain": [
       "                                              Commenti  \\\n",
       "0    riapro questo topic qui, il tema è stato più v...   \n",
       "1    Andrò controcorrente evitando di dire che se n...   \n",
       "2    Su tinder devi avere il gold o il platino ma d...   \n",
       "3    Si tutti scam, ci sono stati anche dei servizi...   \n",
       "4    Peggio che nella vita reale, in queste app i r...   \n",
       "..                                                 ...   \n",
       "207  Io mi ritrovai con una che non mi piaceva e le...   \n",
       "208  Capitato ormai anni fa…lei carina mentre io in...   \n",
       "209  Io conosciuto una su Badoo anni e anni fa e mi...   \n",
       "210  Il tempo di vedermi e si infilò nella smart pe...   \n",
       "211  anni fa, avevo 19 20 anni, KV, ho conosciuto u...   \n",
       "\n",
       "                                             Minuscolo  \\\n",
       "0    riapro questo topic qui, il tema è stato più v...   \n",
       "1    andrò controcorrente evitando di dire che se n...   \n",
       "2    su tinder devi avere il gold o il platino ma d...   \n",
       "3    si tutti scam, ci sono stati anche dei servizi...   \n",
       "4    peggio che nella vita reale, in queste app i r...   \n",
       "..                                                 ...   \n",
       "207  io mi ritrovai con una che non mi piaceva e le...   \n",
       "208  capitato ormai anni fa…lei carina mentre io in...   \n",
       "209  io conosciuto una su badoo anni e anni fa e mi...   \n",
       "210  il tempo di vedermi e si infilò nella smart pe...   \n",
       "211  anni fa, avevo 19 20 anni, kv, ho conosciuto u...   \n",
       "\n",
       "                                              No_emoji  \n",
       "0    riapro questo topic qui, il tema è stato più v...  \n",
       "1    andrò controcorrente evitando di dire che se n...  \n",
       "2    su tinder devi avere il gold o il platino ma d...  \n",
       "3    si tutti scam, ci sono stati anche dei servizi...  \n",
       "4    peggio che nella vita reale, in queste app i r...  \n",
       "..                                                 ...  \n",
       "207  io mi ritrovai con una che non mi piaceva e le...  \n",
       "208  capitato ormai anni fa…lei carina mentre io in...  \n",
       "209  io conosciuto una su badoo anni e anni fa e mi...  \n",
       "210  il tempo di vedermi e si infilò nella smart pe...  \n",
       "211  anni fa, avevo 19 20 anni, kv, ho conosciuto u...  \n",
       "\n",
       "[212 rows x 3 columns]"
      ]
     },
     "metadata": {},
     "output_type": "display_data"
    },
    {
     "name": "stdout",
     "output_type": "stream",
     "text": [
      "___ \n",
      "\n",
      "File salvato: Dataset_FDB_aggiornato.csv\n"
     ]
    }
   ],
   "source": [
    "df = pd.read_csv(\"Dataset_FDB_aggiornato.csv\")\n",
    "df[\"No_emoji\"] = [emoji.replace_emoji(t, replace=\"\") for t in df[\"Minuscolo\"]]\n",
    "\n",
    "display(df[[\"Commenti\", \"Minuscolo\", \"No_emoji\"]]) \n",
    "print(\"___ \\n\")\n",
    "df.to_csv(\"Dataset_FDB_aggiornato.csv\", index=False, encoding=\"utf-8\")\n",
    "print(\"File salvato: Dataset_FDB_aggiornato.csv\")"
   ]
  },
  {
   "cell_type": "markdown",
   "metadata": {},
   "source": [
    "#### 1.3 Spacy\n",
    "Continuiamo a lavorare sul nostro dataset, ma adesso utilizziamo la **libreria spaCy**, questa ci consente di effettuare le seguenti *operazioni linguistiche*:\n",
    "1. la **tokenizzazione** del testo,\n",
    "2. la **rimozione della punteggiatura**,\n",
    "3. la **rimozione delle stop word**,\n",
    "4. la **rimozione delle preposizioni**,\n",
    "5. la **rimozione dei numeri**.\n",
    "\n",
    "\n",
    "Abbiamo già caricato in precedenza il modello linguistico italiano di spaCy: **nlp = spacy.load(\"it_core_news_sm\")** ricordando che la scelta di questo modello è dovuta al fatto che i commenti provengono da un **forum in lingua italiana**, e vogliamo che le operazioni linguistiche (come il *riconoscimento delle parole, i loro lemmi e le categorie grammaticali*) siano coerenti con il contesto della lingua d’origine."
   ]
  },
  {
   "cell_type": "code",
   "execution_count": null,
   "metadata": {
    "execution": {
     "iopub.execute_input": "2025-06-26T07:22:09.456804Z",
     "iopub.status.busy": "2025-06-26T07:22:09.456511Z",
     "iopub.status.idle": "2025-06-26T07:22:12.317745Z",
     "shell.execute_reply": "2025-06-26T07:22:12.317123Z",
     "shell.execute_reply.started": "2025-06-26T07:22:09.456783Z"
    },
    "trusted": true
   },
   "outputs": [
    {
     "data": {
      "text/html": [
       "<div>\n",
       "<style scoped>\n",
       "    .dataframe tbody tr th:only-of-type {\n",
       "        vertical-align: middle;\n",
       "    }\n",
       "\n",
       "    .dataframe tbody tr th {\n",
       "        vertical-align: top;\n",
       "    }\n",
       "\n",
       "    .dataframe thead th {\n",
       "        text-align: right;\n",
       "    }\n",
       "</style>\n",
       "<table border=\"1\" class=\"dataframe\">\n",
       "  <thead>\n",
       "    <tr style=\"text-align: right;\">\n",
       "      <th></th>\n",
       "      <th>Doc_spacy</th>\n",
       "      <th>No_punteggiatura</th>\n",
       "      <th>No_stopword</th>\n",
       "      <th>No_prep</th>\n",
       "      <th>No_num</th>\n",
       "      <th>Lemmi</th>\n",
       "    </tr>\n",
       "  </thead>\n",
       "  <tbody>\n",
       "    <tr>\n",
       "      <th>0</th>\n",
       "      <td>(riapro, questo, topic, qui, ,, il, tema, è, s...</td>\n",
       "      <td>[riapro, questo, topic, qui, il, tema, è, stat...</td>\n",
       "      <td>[riapro, topic, tema, affrontato, forum, prece...</td>\n",
       "      <td>[riapro, topic, tema, affrontato, forum, prece...</td>\n",
       "      <td>[riapro, topic, tema, affrontato, forum, prece...</td>\n",
       "      <td>[riapro, topic, tema, affrontare, forum, prece...</td>\n",
       "    </tr>\n",
       "    <tr>\n",
       "      <th>1</th>\n",
       "      <td>(andrò, controcorrente, evitando, di, dire, ch...</td>\n",
       "      <td>[andrò, controcorrente, evitando, di, dire, ch...</td>\n",
       "      <td>[andrò, controcorrente, evitando, minimo, 6,5,...</td>\n",
       "      <td>[andrò, controcorrente, evitando, minimo, 6,5,...</td>\n",
       "      <td>[andrò, controcorrente, evitando, minimo, chan...</td>\n",
       "      <td>[andrò, controcorrente, evitare, minimo, chanc...</td>\n",
       "    </tr>\n",
       "    <tr>\n",
       "      <th>2</th>\n",
       "      <td>(su, tinder, devi, avere, il, gold, o, il, pla...</td>\n",
       "      <td>[su, tinder, devi, avere, il, gold, o, il, pla...</td>\n",
       "      <td>[tinder, devi, gold, o, platino, devi, assolut...</td>\n",
       "      <td>[tinder, devi, gold, o, platino, devi, assolut...</td>\n",
       "      <td>[tinder, devi, gold, o, platino, devi, assolut...</td>\n",
       "      <td>[tinder, dovere, gold, o, platino, dovere, ass...</td>\n",
       "    </tr>\n",
       "    <tr>\n",
       "      <th>3</th>\n",
       "      <td>(si, tutti, scam, ,, ci, sono, stati, anche, d...</td>\n",
       "      <td>[si, tutti, scam, ci, sono, stati, anche, dei,...</td>\n",
       "      <td>[scam, servizi, mediatici, ufficiali, dimostra...</td>\n",
       "      <td>[scam, servizi, mediatici, ufficiali, dimostra...</td>\n",
       "      <td>[scam, servizi, mediatici, ufficiali, dimostra...</td>\n",
       "      <td>[scam, servizio, mediatico, ufficiale, dimostr...</td>\n",
       "    </tr>\n",
       "    <tr>\n",
       "      <th>4</th>\n",
       "      <td>(peggio, che, nella, vita, reale, ,, in, quest...</td>\n",
       "      <td>[peggio, che, nella, vita, reale, in, queste, ...</td>\n",
       "      <td>[reale, app, i, rapporti, sbilanciati, vaginom...</td>\n",
       "      <td>[reale, app, i, rapporti, sbilanciati, vaginom...</td>\n",
       "      <td>[reale, app, i, rapporti, sbilanciati, vaginom...</td>\n",
       "      <td>[reale, app, il, rapporto, sbilanciare, vagino...</td>\n",
       "    </tr>\n",
       "    <tr>\n",
       "      <th>...</th>\n",
       "      <td>...</td>\n",
       "      <td>...</td>\n",
       "      <td>...</td>\n",
       "      <td>...</td>\n",
       "      <td>...</td>\n",
       "      <td>...</td>\n",
       "    </tr>\n",
       "    <tr>\n",
       "      <th>207</th>\n",
       "      <td>(io, mi, ritrovai, con, una, che, non, mi, pia...</td>\n",
       "      <td>[io, mi, ritrovai, con, una, che, non, mi, pia...</td>\n",
       "      <td>[ritrovai, piaceva, piaceva, punto, chiamare, ...</td>\n",
       "      <td>[ritrovai, piaceva, piaceva, punto, chiamare, ...</td>\n",
       "      <td>[ritrovai, piaceva, piaceva, punto, chiamare, ...</td>\n",
       "      <td>[ritrovaire, piacere, piacere, punto, chiamare...</td>\n",
       "    </tr>\n",
       "    <tr>\n",
       "      <th>208</th>\n",
       "      <td>(capitato, ormai, anni, fa, …, lei, carina, me...</td>\n",
       "      <td>[capitato, ormai, anni, fa, lei, carina, mentr...</td>\n",
       "      <td>[capitato, ormai, carina, inguardabile, inutil...</td>\n",
       "      <td>[capitato, ormai, carina, inguardabile, inutil...</td>\n",
       "      <td>[capitato, ormai, carina, inguardabile, inutil...</td>\n",
       "      <td>[capitare, ormai, carinare, inguardabile, inut...</td>\n",
       "    </tr>\n",
       "    <tr>\n",
       "      <th>209</th>\n",
       "      <td>(io, conosciuto, una, su, badoo, anni, e, anni...</td>\n",
       "      <td>[io, conosciuto, una, su, badoo, anni, e, anni...</td>\n",
       "      <td>[conosciuto, badoo, bastato, andato, veloce, s...</td>\n",
       "      <td>[conosciuto, badoo, bastato, andato, veloce, s...</td>\n",
       "      <td>[conosciuto, badoo, bastato, andato, veloce, s...</td>\n",
       "      <td>[conoscere, badoo, bastare, andare, veloce, sc...</td>\n",
       "    </tr>\n",
       "    <tr>\n",
       "      <th>210</th>\n",
       "      <td>(il, tempo, di, vedermi, e, si, infilò, nella,...</td>\n",
       "      <td>[il, tempo, di, vedermi, e, si, infilò, nella,...</td>\n",
       "      <td>[vedermi, infilò, smart, fuggire]</td>\n",
       "      <td>[vedermi, infilò, smart, fuggire]</td>\n",
       "      <td>[vedermi, infilò, smart, fuggire]</td>\n",
       "      <td>[vedere mi, infilò, smart, fuggire]</td>\n",
       "    </tr>\n",
       "    <tr>\n",
       "      <th>211</th>\n",
       "      <td>(anni, fa, ,, avevo, 19, 20, anni, ,, kv, ,, h...</td>\n",
       "      <td>[anni, fa, avevo, 19, 20, anni, kv, ho, conosc...</td>\n",
       "      <td>[19, 20, kv, conosciuto, online, 4,5, magra, a...</td>\n",
       "      <td>[19, 20, kv, conosciuto, online, 4,5, magra, a...</td>\n",
       "      <td>[kv, conosciuto, online, magra, alta, m, \\n \\n...</td>\n",
       "      <td>[kv, conoscere, online, magra, alto, m, \\n \\n ...</td>\n",
       "    </tr>\n",
       "  </tbody>\n",
       "</table>\n",
       "<p>212 rows × 6 columns</p>\n",
       "</div>"
      ],
      "text/plain": [
       "                                             Doc_spacy  \\\n",
       "0    (riapro, questo, topic, qui, ,, il, tema, è, s...   \n",
       "1    (andrò, controcorrente, evitando, di, dire, ch...   \n",
       "2    (su, tinder, devi, avere, il, gold, o, il, pla...   \n",
       "3    (si, tutti, scam, ,, ci, sono, stati, anche, d...   \n",
       "4    (peggio, che, nella, vita, reale, ,, in, quest...   \n",
       "..                                                 ...   \n",
       "207  (io, mi, ritrovai, con, una, che, non, mi, pia...   \n",
       "208  (capitato, ormai, anni, fa, …, lei, carina, me...   \n",
       "209  (io, conosciuto, una, su, badoo, anni, e, anni...   \n",
       "210  (il, tempo, di, vedermi, e, si, infilò, nella,...   \n",
       "211  (anni, fa, ,, avevo, 19, 20, anni, ,, kv, ,, h...   \n",
       "\n",
       "                                      No_punteggiatura  \\\n",
       "0    [riapro, questo, topic, qui, il, tema, è, stat...   \n",
       "1    [andrò, controcorrente, evitando, di, dire, ch...   \n",
       "2    [su, tinder, devi, avere, il, gold, o, il, pla...   \n",
       "3    [si, tutti, scam, ci, sono, stati, anche, dei,...   \n",
       "4    [peggio, che, nella, vita, reale, in, queste, ...   \n",
       "..                                                 ...   \n",
       "207  [io, mi, ritrovai, con, una, che, non, mi, pia...   \n",
       "208  [capitato, ormai, anni, fa, lei, carina, mentr...   \n",
       "209  [io, conosciuto, una, su, badoo, anni, e, anni...   \n",
       "210  [il, tempo, di, vedermi, e, si, infilò, nella,...   \n",
       "211  [anni, fa, avevo, 19, 20, anni, kv, ho, conosc...   \n",
       "\n",
       "                                           No_stopword  \\\n",
       "0    [riapro, topic, tema, affrontato, forum, prece...   \n",
       "1    [andrò, controcorrente, evitando, minimo, 6,5,...   \n",
       "2    [tinder, devi, gold, o, platino, devi, assolut...   \n",
       "3    [scam, servizi, mediatici, ufficiali, dimostra...   \n",
       "4    [reale, app, i, rapporti, sbilanciati, vaginom...   \n",
       "..                                                 ...   \n",
       "207  [ritrovai, piaceva, piaceva, punto, chiamare, ...   \n",
       "208  [capitato, ormai, carina, inguardabile, inutil...   \n",
       "209  [conosciuto, badoo, bastato, andato, veloce, s...   \n",
       "210                  [vedermi, infilò, smart, fuggire]   \n",
       "211  [19, 20, kv, conosciuto, online, 4,5, magra, a...   \n",
       "\n",
       "                                               No_prep  \\\n",
       "0    [riapro, topic, tema, affrontato, forum, prece...   \n",
       "1    [andrò, controcorrente, evitando, minimo, 6,5,...   \n",
       "2    [tinder, devi, gold, o, platino, devi, assolut...   \n",
       "3    [scam, servizi, mediatici, ufficiali, dimostra...   \n",
       "4    [reale, app, i, rapporti, sbilanciati, vaginom...   \n",
       "..                                                 ...   \n",
       "207  [ritrovai, piaceva, piaceva, punto, chiamare, ...   \n",
       "208  [capitato, ormai, carina, inguardabile, inutil...   \n",
       "209  [conosciuto, badoo, bastato, andato, veloce, s...   \n",
       "210                  [vedermi, infilò, smart, fuggire]   \n",
       "211  [19, 20, kv, conosciuto, online, 4,5, magra, a...   \n",
       "\n",
       "                                                No_num  \\\n",
       "0    [riapro, topic, tema, affrontato, forum, prece...   \n",
       "1    [andrò, controcorrente, evitando, minimo, chan...   \n",
       "2    [tinder, devi, gold, o, platino, devi, assolut...   \n",
       "3    [scam, servizi, mediatici, ufficiali, dimostra...   \n",
       "4    [reale, app, i, rapporti, sbilanciati, vaginom...   \n",
       "..                                                 ...   \n",
       "207  [ritrovai, piaceva, piaceva, punto, chiamare, ...   \n",
       "208  [capitato, ormai, carina, inguardabile, inutil...   \n",
       "209  [conosciuto, badoo, bastato, andato, veloce, s...   \n",
       "210                  [vedermi, infilò, smart, fuggire]   \n",
       "211  [kv, conosciuto, online, magra, alta, m, \\n \\n...   \n",
       "\n",
       "                                                 Lemmi  \n",
       "0    [riapro, topic, tema, affrontare, forum, prece...  \n",
       "1    [andrò, controcorrente, evitare, minimo, chanc...  \n",
       "2    [tinder, dovere, gold, o, platino, dovere, ass...  \n",
       "3    [scam, servizio, mediatico, ufficiale, dimostr...  \n",
       "4    [reale, app, il, rapporto, sbilanciare, vagino...  \n",
       "..                                                 ...  \n",
       "207  [ritrovaire, piacere, piacere, punto, chiamare...  \n",
       "208  [capitare, ormai, carinare, inguardabile, inut...  \n",
       "209  [conoscere, badoo, bastare, andare, veloce, sc...  \n",
       "210                [vedere mi, infilò, smart, fuggire]  \n",
       "211  [kv, conoscere, online, magra, alto, m, \\n \\n ...  \n",
       "\n",
       "[212 rows x 6 columns]"
      ]
     },
     "metadata": {},
     "output_type": "display_data"
    },
    {
     "name": "stdout",
     "output_type": "stream",
     "text": [
      "___ \n",
      "\n",
      "File salvato: Dataset_FDB_aggiornato.csv\n"
     ]
    }
   ],
   "source": [
    "#Costruiamo una lista di oggetti spaCy Doc,struttura base su cui lavora spacy e su cui possiamo applicare: token.lemma_, token.is_stop...\n",
    "df[\"Doc_spacy\"] = [nlp(testo) for testo in df[\"No_emoji\"]] #testo=ogni singola riga nella colonna no_emoji\n",
    "\n",
    "#Tokenizzazione\n",
    "df[\"Token\"] = [[token for token in doc] for doc in df[\"Doc_spacy\"]] #estraggo lista di token\n",
    "\n",
    "#Eliminiamo la punteggiatura\n",
    "df[\"No_punteggiatura\"] = [[token for token in doc if not token.is_punct] for doc in df[\"Token\"]]\n",
    "\n",
    "#Rimuoviamo le stopword\n",
    "df[\"No_stopword\"] = [[token for token in tokens if not token.is_stop] for tokens in df[\"No_punteggiatura\"]]\n",
    "\n",
    "#Rimuoviamo le preposizioni\n",
    "df[\"No_prep\"] = [[token for token in tokens if token.pos_ != \"ADP\"] for tokens in df[\"No_stopword\"]]\n",
    "\n",
    "#Rimuoviamo i numeri \n",
    "df[\"No_num\"] = [[token for token in tokens if token.pos_ != \"NUM\"] for tokens in df[\"No_prep\"]]\n",
    "\n",
    "#Estraiamo i lemmi\n",
    "df[\"Lemmi\"] = [[token.lemma_ for token in tokens] for tokens in df[\"No_num\"]] #tokens=lista di token\n",
    "\n",
    "display(df[[\"Doc_spacy\",\"No_punteggiatura\",\"No_stopword\",\"No_prep\",\"No_num\",\"Lemmi\"]])\n",
    "print(\"___ \\n\")\n",
    "df.to_csv(\"Dataset_FDB_aggiornato.csv\", index=False, encoding=\"utf-8\")\n",
    "print(\"File salvato: Dataset_FDB_aggiornato.csv\")"
   ]
  },
  {
   "cell_type": "markdown",
   "metadata": {},
   "source": [
    "#### Lemmatizziamo (?)\n",
    "Adesso proviamo a lemmatizzare anche le liste di parole di riferimento (positive, negative). \n",
    "___ \n",
    "Sapendo che il confronto tra lemmi e altri lemmi sarebbe la scelta più corretta dal punto di vista linguistico, nel nostro caso specifico, la lemmatizzazione automatica introduce alcune distorsioni: ad esempio, alcune parole o sigle vengono lemmatizzate in modo errato:  \n",
    "es.**Hinge --> Ingevere**.\n",
    "\n",
    "Questo tipo di errore potrebbe essersi verificato anche durante la **lemmatizzazione dei commenti** nel nostro dataset. Per questo motivo, da questo punto in poi, considereremo esclusivamente i **TOKEN** (ovvero le forme originali delle parole), senza applicare la lemmatizzazione. Questa scelta ci permette di evitare problemi legati a una lemmatizzazione imprecisa e di mantenere maggiore fedeltà al testo originale, soprattutto per nomi propri, sigle o termini gergali."
   ]
  },
  {
   "cell_type": "code",
   "execution_count": null,
   "metadata": {
    "execution": {
     "iopub.execute_input": "2025-06-26T07:22:15.722330Z",
     "iopub.status.busy": "2025-06-26T07:22:15.721995Z",
     "iopub.status.idle": "2025-06-26T07:22:16.119305Z",
     "shell.execute_reply": "2025-06-26T07:22:16.118362Z",
     "shell.execute_reply.started": "2025-06-26T07:22:15.722309Z"
    },
    "trusted": true
   },
   "outputs": [
    {
     "name": "stdout",
     "output_type": "stream",
     "text": [
      "Lemmi positivi: ['piacere', 'bene', 'chad', 'sicuramente', 'funzionare', 'bello', 'Gold', 'funzionare', 'successo', 'speranza', 'carinare', 'vantaggio', 'stacy', 'primo', 'buono', 'bellezza', 'ottieno', 'ideale', 'bene', 'vincere', 'supermatch', 'match', 'matchasto', 'super', 'soddisfazione', 'provare ci', 'preferenza', 'pacere', 'nuovo', 'merito', 'meraviglia', 'interesse', 'interessante', 'innamorato', 'giusto', 'free', 'fortuna', 'efficace', 'bravo', 'bravo', 'attraente', 'appetibile', 'appagare', 'adattare', 'accettare']\n",
      "___ \n",
      "\n",
      "Lemmi negativi: ['np', 'cazzo', 'scam', 'scopare', 'fake', 'arpia', 'spastico', 'belloccio', 'sub', 'normaloido', 'megere', 'ghostare', 'coglione', 'racchia', 'puttano', 'normia', 'minchiare', 'ipergamia', 'ghosting', 'Feccia', 'zoccole', 'wallata', 'obese', 'vaginemunita', 'troia', 'torturare si', 'swappano', 'subumano', 'socialonare', 'sfruttare', 'sfanculare', 'scassacazzo', 'satano', 'rincoglionito', 'pecorone', 'oldcel', 'normies', 'muscolato', 'moggare le', 'minkiare', 'ipergamare', 'incellone', 'falso', 'egoboostare', 'celebrolese']\n"
     ]
    }
   ],
   "source": [
    "def lemmi_lista(lista_parole): #funzione: lemmi_lista\n",
    "    lemmi = []\n",
    "    for parola in lista_parole:\n",
    "        doc = nlp(parola) #passa una parola alla volta applicando spacy\n",
    "        for token in doc: #Ciclo su tutti i token trovati da spaCy: es.nlp(\"buonissimo\") produce 1 token, ma nlp(\"non male\") ne produce 2, in questo modo ci concentriamo solo su 1 token per volta.\n",
    "            lemmi.append(token.lemma_)\n",
    "    return lemmi\n",
    "\n",
    "parole_pos_lemmi = lemmi_lista(parole_positive)\n",
    "parole_neg_lemmi = lemmi_lista(parole_negative)\n",
    "\n",
    "print(\"Lemmi positivi:\", parole_pos_lemmi)\n",
    "print(\"___ \\n\")\n",
    "print(\"Lemmi negativi:\", parole_neg_lemmi)\n",
    "     \n",
    "#print(f\"parole_pos_lemmi:{len(parole_pos_lemmi)}\") #volevo verificare se ci fossero più/meno parole rispetto le liste iniziali  \n",
    "#print(f\"parole_neg_lemmi:{len(parole_neg_lemmi)}\") "
   ]
  },
  {
   "cell_type": "markdown",
   "metadata": {},
   "source": [
    "#### \"Colpo di scena\" \n",
    "Sì, è vero. Tutta questa prima parte poteva essere riassunta in una singola, piccola e significante... funzione e con poche righe di codice!\n",
    "\n",
    "___  \n",
    "\n",
    "Per rendere il codice più essenziale, quindi, applicheremo alla colonna **\"No_emoji\"** direttamente un **filtro finale** conservando in questo modo solo i token che appartengono alle seguenti categorie grammaticali e che sono le classi più rilevanti per la nostra analisi: \n",
    "- **Aggettivi (ADJ),**\n",
    "- **Sostantivi (NOUN),**\n",
    "- **Verbi (VERB)**\n",
    "- **Avverbi (ADV)**. "
   ]
  },
  {
   "cell_type": "code",
   "execution_count": null,
   "metadata": {
    "execution": {
     "iopub.execute_input": "2025-06-26T07:22:19.939488Z",
     "iopub.status.busy": "2025-06-26T07:22:19.939113Z",
     "iopub.status.idle": "2025-06-26T07:22:22.578121Z",
     "shell.execute_reply": "2025-06-26T07:22:22.577577Z",
     "shell.execute_reply.started": "2025-06-26T07:22:19.939460Z"
    },
    "trusted": true
   },
   "outputs": [
    {
     "data": {
      "text/html": [
       "<div>\n",
       "<style scoped>\n",
       "    .dataframe tbody tr th:only-of-type {\n",
       "        vertical-align: middle;\n",
       "    }\n",
       "\n",
       "    .dataframe tbody tr th {\n",
       "        vertical-align: top;\n",
       "    }\n",
       "\n",
       "    .dataframe thead th {\n",
       "        text-align: right;\n",
       "    }\n",
       "</style>\n",
       "<table border=\"1\" class=\"dataframe\">\n",
       "  <thead>\n",
       "    <tr style=\"text-align: right;\">\n",
       "      <th></th>\n",
       "      <th>No_emoji</th>\n",
       "      <th>Token</th>\n",
       "    </tr>\n",
       "  </thead>\n",
       "  <tbody>\n",
       "    <tr>\n",
       "      <th>0</th>\n",
       "      <td>riapro questo topic qui, il tema è stato più v...</td>\n",
       "      <td>[riapro, topic, tema, affrontato, forum, prece...</td>\n",
       "    </tr>\n",
       "    <tr>\n",
       "      <th>1</th>\n",
       "      <td>andrò controcorrente evitando di dire che se n...</td>\n",
       "      <td>[andrò, controcorrente, evitando, minimo, chan...</td>\n",
       "    </tr>\n",
       "    <tr>\n",
       "      <th>2</th>\n",
       "      <td>su tinder devi avere il gold o il platino ma d...</td>\n",
       "      <td>[tinder, platino, assolutamente, boost, cioè, ...</td>\n",
       "    </tr>\n",
       "    <tr>\n",
       "      <th>3</th>\n",
       "      <td>si tutti scam, ci sono stati anche dei servizi...</td>\n",
       "      <td>[scam, servizi, mediatici, ufficiali, dimostra...</td>\n",
       "    </tr>\n",
       "    <tr>\n",
       "      <th>4</th>\n",
       "      <td>peggio che nella vita reale, in queste app i r...</td>\n",
       "      <td>[reale, app, rapporti, sbilanciati, vaginomuni...</td>\n",
       "    </tr>\n",
       "    <tr>\n",
       "      <th>5</th>\n",
       "      <td>hai spiegato perfettamente perchè queste app n...</td>\n",
       "      <td>[spiegato, perfettamente, app, funzionano, fun...</td>\n",
       "    </tr>\n",
       "    <tr>\n",
       "      <th>6</th>\n",
       "      <td>per me tutte le dating app andrebbero bannate ...</td>\n",
       "      <td>[dating, app, bannate, cause, sconfinata, inar...</td>\n",
       "    </tr>\n",
       "    <tr>\n",
       "      <th>7</th>\n",
       "      <td>crude le dating apps</td>\n",
       "      <td>[crude, dating, apps]</td>\n",
       "    </tr>\n",
       "    <tr>\n",
       "      <th>8</th>\n",
       "      <td>si , pure io ho avuto questa impressione\\n tin...</td>\n",
       "      <td>[impressione, tinder, porta, risultato, paghi,...</td>\n",
       "    </tr>\n",
       "    <tr>\n",
       "      <th>9</th>\n",
       "      <td>giusto ieri abbiamo spottato con dei miei amic...</td>\n",
       "      <td>[giusto, spottato, amici, pazza, perditempo, t...</td>\n",
       "    </tr>\n",
       "  </tbody>\n",
       "</table>\n",
       "</div>"
      ],
      "text/plain": [
       "                                            No_emoji  \\\n",
       "0  riapro questo topic qui, il tema è stato più v...   \n",
       "1  andrò controcorrente evitando di dire che se n...   \n",
       "2  su tinder devi avere il gold o il platino ma d...   \n",
       "3  si tutti scam, ci sono stati anche dei servizi...   \n",
       "4  peggio che nella vita reale, in queste app i r...   \n",
       "5  hai spiegato perfettamente perchè queste app n...   \n",
       "6  per me tutte le dating app andrebbero bannate ...   \n",
       "7                               crude le dating apps   \n",
       "8  si , pure io ho avuto questa impressione\\n tin...   \n",
       "9  giusto ieri abbiamo spottato con dei miei amic...   \n",
       "\n",
       "                                               Token  \n",
       "0  [riapro, topic, tema, affrontato, forum, prece...  \n",
       "1  [andrò, controcorrente, evitando, minimo, chan...  \n",
       "2  [tinder, platino, assolutamente, boost, cioè, ...  \n",
       "3  [scam, servizi, mediatici, ufficiali, dimostra...  \n",
       "4  [reale, app, rapporti, sbilanciati, vaginomuni...  \n",
       "5  [spiegato, perfettamente, app, funzionano, fun...  \n",
       "6  [dating, app, bannate, cause, sconfinata, inar...  \n",
       "7                              [crude, dating, apps]  \n",
       "8  [impressione, tinder, porta, risultato, paghi,...  \n",
       "9  [giusto, spottato, amici, pazza, perditempo, t...  "
      ]
     },
     "metadata": {},
     "output_type": "display_data"
    },
    {
     "name": "stdout",
     "output_type": "stream",
     "text": [
      "___ \n",
      "\n",
      "File salvato: Dataset_FDB_aggiornato_breve.csv\n"
     ]
    }
   ],
   "source": [
    "df = pd.read_csv(\"Dataset_FDB_aggiornato.csv\")\n",
    "\n",
    "def processa_testo(testo):\n",
    "    doc = nlp(testo) #analizziamo con spacy\n",
    "    pos_valide = [\"ADJ\", \"NOUN\", \"VERB\", \"ADV\"] #filtriamo i token,teniamo solo quelli utili\n",
    "    tokens = [token.text for token in doc if not token.is_punct and not token.is_stop and token.pos_ in pos_valide]\n",
    "    return tokens #lista di parole utili per la nostra analisi\n",
    "    \n",
    "df[\"Token\"] = df[\"No_emoji\"].apply(processa_testo)\n",
    "#.apply(funzione) --> applica la funzione(def) a ogni singola cella di quella colonna.\n",
    "\n",
    "display(df[[\"No_emoji\", \"Token\"]].head(10)) #stampo i primi 10 partendo da 0\n",
    "print(\"___ \\n\")\n",
    "df.to_csv(\"Dataset_FDB_aggiornato_breve.csv\", index=False, encoding=\"utf-8\")\n",
    "print(\"File salvato: Dataset_FDB_aggiornato_breve.csv\")"
   ]
  },
  {
   "cell_type": "markdown",
   "metadata": {},
   "source": [
    "#### Word2Vec ...e WordNet?\n",
    "Per questo progetto ho scelto di utilizzare un **modello Word2Vec** pre-addestrato **\"word2vec-google-news-300\"** invece di utilizzare strumenti più classici come WordNet. La decisione nasce dalla necessità di lavorare su un **linguaggio informale, con delle sigle, neologismi e termini gergali, come quello presente nei commenti del forum analizzato**. \n",
    "\n",
    "Word2Vec, infatti, non si limita a classificare parole in base al loro significato “da dizionario”, ma costruisce vettori semantici basati su come le parole compaiono in testi reali.\n",
    "___\n",
    "\n",
    "**Riferimenti:**\n",
    "- [Documentazione Wordnet](https://wordnet.princeton.edu/documentation)\n",
    "- [Documentazione modello word2vec-google-news-300](https://huggingface.co/fse/word2vec-google-news-300)\n",
    "- [Google Archive Word2vec](https://code.google.com/archive/p/word2vec/)"
   ]
  },
  {
   "cell_type": "code",
   "execution_count": null,
   "metadata": {
    "execution": {
     "iopub.execute_input": "2025-06-26T07:22:26.539677Z",
     "iopub.status.busy": "2025-06-26T07:22:26.539405Z",
     "iopub.status.idle": "2025-06-26T07:22:26.613114Z",
     "shell.execute_reply": "2025-06-26T07:22:26.612592Z",
     "shell.execute_reply.started": "2025-06-26T07:22:26.539658Z"
    },
    "trusted": true
   },
   "outputs": [
    {
     "name": "stdout",
     "output_type": "stream",
     "text": [
      "Modelli disponibili:\n",
      "['fasttext-wiki-news-subwords-300', 'conceptnet-numberbatch-17-06-300', 'word2vec-ruscorpora-300', 'word2vec-google-news-300', 'glove-wiki-gigaword-50', 'glove-wiki-gigaword-100', 'glove-wiki-gigaword-200', 'glove-wiki-gigaword-300', 'glove-twitter-25', 'glove-twitter-50', 'glove-twitter-100', 'glove-twitter-200', '__testing_word2vec-matrix-synopsis']\n"
     ]
    }
   ],
   "source": [
    "#Verifichiamo i modelli disponibili\n",
    "print(\"Modelli disponibili:\")\n",
    "print(list(api.info()['models'].keys()))"
   ]
  },
  {
   "cell_type": "code",
   "execution_count": null,
   "metadata": {
    "execution": {
     "iopub.execute_input": "2025-06-26T07:32:47.696871Z",
     "iopub.status.busy": "2025-06-26T07:32:47.696574Z",
     "iopub.status.idle": "2025-06-26T07:33:32.019131Z",
     "shell.execute_reply": "2025-06-26T07:33:32.018356Z",
     "shell.execute_reply.started": "2025-06-26T07:32:47.696849Z"
    },
    "trusted": true
   },
   "outputs": [
    {
     "name": "stdout",
     "output_type": "stream",
     "text": [
      "Modello caricato\n"
     ]
    }
   ],
   "source": [
    "#Carichiamo il modello:\n",
    "modello_w2v = api.load(\"word2vec-google-news-300\")\n",
    "print(\"Modello caricato\")"
   ]
  },
  {
   "cell_type": "markdown",
   "metadata": {},
   "source": [
    "#### Calcolo della Similarità\n",
    "Dopo aver caricato il dataset aggiornato (`df`), nella successiva cella definiamo la funzione `trova_sim_max`.    \n",
    "Questa funzione ha il compito di calcolare, per ogni commento del dataset, la **similarità massima** tra ciascun token del commento stesso e tutte le parole presenti in due liste di riferimento: una lista di **parole positive** (`lista_pos`) e una di **parole negative** (`lista_neg`).  \n",
    "Il calcolo viene effettuato utilizzando i **word embeddings** forniti dal modello (`modello_w2v`).\n",
    "\n",
    "Nella funzione, per ogni token vengono confrontate le similarità con tutte le parole positive e negative:\n",
    "- I valori di similarità vengono salvati nella lista `similarita`, mentre le relative etichette (\"Positivo\" o \"Negativo\") vengono inserite in `classi`.\n",
    "- Alla fine del ciclo, si identifica la posizione del valore massimo in `similarita` tramite la funzione `argmax` di numpy, e si recupera sia il valore massimo (`sim_max`), sia la classe corrispondente (`classe_best`).\n",
    "- Se nessuna similarità viene trovata (ad esempio, se i token o le parole di riferimento non sono nel modello), viene assegnata la classe \"Neutro\"."
   ]
  },
  {
   "cell_type": "code",
   "execution_count": null,
   "metadata": {
    "execution": {
     "iopub.execute_input": "2025-06-26T07:33:37.384552Z",
     "iopub.status.busy": "2025-06-26T07:33:37.384277Z",
     "iopub.status.idle": "2025-06-26T07:33:37.403877Z",
     "shell.execute_reply": "2025-06-26T07:33:37.403260Z",
     "shell.execute_reply.started": "2025-06-26T07:33:37.384531Z"
    },
    "trusted": true
   },
   "outputs": [],
   "source": [
    "df = pd.read_csv(\"Dataset_FDB_aggiornato_breve.csv\")\n",
    "def trova_sim_max(tokens, lista_pos, lista_neg, modello_w2v): #input: lista di parole+lista di parole di riferimento\n",
    "    similarita = []\n",
    "    classi = []\n",
    "    \n",
    "    for token in tokens: #per ogni token nel commento calcoliamo la distanza vettoriale\n",
    "        if token in modello_w2v: #evitiamo di calcolare la similarità per parole che il modello non conosce=errore\n",
    "            for p in lista_pos: #confrontiamo ogni parola p nella lista delle p.positive\n",
    "                if p in modello_w2v: #controlla se la parola positiva p è presente nel modello Word2Vec\n",
    "                    similarita.append(modello_w2v.similarity(token, p)) #cosine similarity tra vettore della parola e vettore della parola p usando il modello word2vec e aggiunge il risultato alla lista similarita\n",
    "                    classi.append(\"Positivo\")\n",
    "            for n in lista_neg: #similarità con parole in lista negativa presente nel modello\n",
    "                if n in modello_w2v:\n",
    "                    similarita.append(modello_w2v.similarity(token, n)) #risultato tra 1 e 0/(-1) che indicherà quanto semanticamente sono vicine queste due parole secondo w2v\n",
    "                    classi.append(\"Negativo\")\n",
    "\n",
    "    if similarita #se la lista non è vuota\n",
    "        idx_max = np.argmax(similarita #argmax per recuperare il valore massimo di sim\n",
    "        sim_max = similarita[idx_max]\n",
    "        classe_best = classi[idx_max] #recupera l'etichetta associata a quel max\n",
    "    else:  #se la lista è vuota\n",
    "        sim_max = 0\n",
    "        classe_best = \"Neutro\" #associamo questa etichetta perché non sono state trovate similarità\n",
    "    return sim_max, classe_best"
   ]
  },
  {
   "cell_type": "markdown",
   "metadata": {},
   "source": [
    "Nella prossima cella la **funzione** `trova_sim_max` viene **applicata a tutti i commenti** del dataset.  \n",
    "Quindi, per ogni commento, verrà calcolato il massimo valore di similarità rispetto alle liste di parole positive e negative, e verrà assegnata l’**etichetta di sentiment** più appropriata (\"Positivo\", \"Negativo\" o \"Neutro\").  \n",
    "Infine, i risultati verranno aggiunti come **nuove colonne nel DataFrame** e salvati in un file aggiornato."
   ]
  },
  {
   "cell_type": "code",
   "execution_count": null,
   "metadata": {
    "execution": {
     "iopub.execute_input": "2025-06-26T07:33:40.439393Z",
     "iopub.status.busy": "2025-06-26T07:33:40.438647Z",
     "iopub.status.idle": "2025-06-26T07:33:52.992297Z",
     "shell.execute_reply": "2025-06-26T07:33:52.991284Z",
     "shell.execute_reply.started": "2025-06-26T07:33:40.439364Z"
    },
    "trusted": true
   },
   "outputs": [
    {
     "name": "stdout",
     "output_type": "stream",
     "text": [
      "    sim_max Sentiment\n",
      "0  0.523261  Negativo\n",
      "1  0.648607  Positivo\n",
      "2  0.648607  Positivo\n",
      "3  0.523261  Negativo\n",
      "4  0.515331  Negativo\n",
      "5  0.571140  Positivo\n",
      "6  0.515331  Negativo\n",
      "7  0.515331  Negativo\n",
      "8  0.523261  Negativo\n",
      "9  0.571140  Positivo\n",
      "File aggiornato: Dataset_FDB_aggiornato_breve.csv\n"
     ]
    }
   ],
   "source": [
    "lista_sim_max= []  #per salvare la similarità massima di ogni commento\n",
    "lista_sentimento = [] #salvare l’etichetta del sentiment \n",
    "\n",
    "for tokens in df[\"Token\"]: #applichiamo la funzione e salviamo i 2 risultati restituiti dalla funz.\n",
    "    sim, sentimento = trova_sim_max(tokens, parole_positive, parole_negative, modello_w2v)\n",
    "    lista_sim_max.append(sim)\n",
    "    lista_sentimento.append(sentimento)\n",
    "#salviamo il valore massimo di sim. e l'etichetta associata\n",
    "df[\"sim_max\"] = lista_sim_max\n",
    "df[\"Sentiment\"] = lista_sentimento\n",
    "\n",
    "print(df[[\"sim_max\", \"Sentiment\"]].head(10))\n",
    "df.to_csv(\"Dataset_FDB_aggiornato_breve.csv\", index=False, encoding=\"utf-8\")\n",
    "print(\"File aggiornato: Dataset_FDB_aggiornato_breve.csv\")"
   ]
  },
  {
   "cell_type": "code",
   "execution_count": null,
   "metadata": {
    "execution": {
     "iopub.execute_input": "2025-06-26T07:34:16.438189Z",
     "iopub.status.busy": "2025-06-26T07:34:16.437953Z",
     "iopub.status.idle": "2025-06-26T07:34:16.964556Z",
     "shell.execute_reply": "2025-06-26T07:34:16.963779Z",
     "shell.execute_reply.started": "2025-06-26T07:34:16.438175Z"
    },
    "trusted": true
   },
   "outputs": [
    {
     "data": {
      "image/png": "[encoded data removed]",
      "text/plain": [
       "<Figure size 800x500 with 1 Axes>"
      ]
     },
     "metadata": {},
     "output_type": "display_data"
    }
   ],
   "source": [
    "#GENERIAMO IL GRAFICO:\n",
    "sfumature_verdi = [\"#2e7d32\", \"#b2df8a\", \"#66bb6a\"]\n",
    "sns.set(style=\"whitegrid\")\n",
    "plt.figure(figsize=(8, 5))\n",
    "sns.countplot(data=df, x=\"Sentiment\", palette=sfumature_verdi)\n",
    "\n",
    "#Titolo ed etichette\n",
    "plt.title(\"Il sentiment prevalente è:\")\n",
    "plt.xlabel(\"Etichette\")\n",
    "plt.ylabel(\"Numero di commenti\")\n",
    "plt.tight_layout()\n",
    "plt.show()"
   ]
  },
  {
   "cell_type": "markdown",
   "metadata": {},
   "source": [
    "### Word2vec locale\n",
    "Adesso realizziamo un **modello Word2vec locale**, in *italiano*, partendo dai miei dati, e quindi utilizzando i **token** già estratti dal dataset, così da evitare problemi di **compatibilità linguistica** (che si potevano avere quando abbiamo usato word2vec-google-news-300, che è basato sull'inglese).\n",
    "___\n",
    "**Riferimento:**\n",
    "- [Documentazione W2C locale](https://radimrehurek.com/gensim/models/word2vec.html#gensim.models.word2vec.BrownCorpus)\n"
   ]
  },
  {
   "cell_type": "code",
   "execution_count": null,
   "metadata": {
    "execution": {
     "iopub.execute_input": "2025-06-26T07:34:21.517459Z",
     "iopub.status.busy": "2025-06-26T07:34:21.517172Z",
     "iopub.status.idle": "2025-06-26T07:34:24.189106Z",
     "shell.execute_reply": "2025-06-26T07:34:24.188472Z",
     "shell.execute_reply.started": "2025-06-26T07:34:21.517441Z"
    },
    "trusted": true
   },
   "outputs": [
    {
     "data": {
      "text/html": [
       "<div>\n",
       "<style scoped>\n",
       "    .dataframe tbody tr th:only-of-type {\n",
       "        vertical-align: middle;\n",
       "    }\n",
       "\n",
       "    .dataframe tbody tr th {\n",
       "        vertical-align: top;\n",
       "    }\n",
       "\n",
       "    .dataframe thead th {\n",
       "        text-align: right;\n",
       "    }\n",
       "</style>\n",
       "<table border=\"1\" class=\"dataframe\">\n",
       "  <thead>\n",
       "    <tr style=\"text-align: right;\">\n",
       "      <th></th>\n",
       "      <th>No_emoji</th>\n",
       "      <th>Token</th>\n",
       "    </tr>\n",
       "  </thead>\n",
       "  <tbody>\n",
       "    <tr>\n",
       "      <th>0</th>\n",
       "      <td>riapro questo topic qui, il tema è stato più v...</td>\n",
       "      <td>[riapro, topic, tema, affrontato, forum, prece...</td>\n",
       "    </tr>\n",
       "    <tr>\n",
       "      <th>1</th>\n",
       "      <td>andrò controcorrente evitando di dire che se n...</td>\n",
       "      <td>[andrò, controcorrente, evitando, minimo, chan...</td>\n",
       "    </tr>\n",
       "    <tr>\n",
       "      <th>2</th>\n",
       "      <td>su tinder devi avere il gold o il platino ma d...</td>\n",
       "      <td>[tinder, platino, assolutamente, boost, cioè, ...</td>\n",
       "    </tr>\n",
       "    <tr>\n",
       "      <th>3</th>\n",
       "      <td>si tutti scam, ci sono stati anche dei servizi...</td>\n",
       "      <td>[scam, servizi, mediatici, ufficiali, dimostra...</td>\n",
       "    </tr>\n",
       "    <tr>\n",
       "      <th>4</th>\n",
       "      <td>peggio che nella vita reale, in queste app i r...</td>\n",
       "      <td>[reale, app, rapporti, sbilanciati, vaginomuni...</td>\n",
       "    </tr>\n",
       "  </tbody>\n",
       "</table>\n",
       "</div>"
      ],
      "text/plain": [
       "                                            No_emoji  \\\n",
       "0  riapro questo topic qui, il tema è stato più v...   \n",
       "1  andrò controcorrente evitando di dire che se n...   \n",
       "2  su tinder devi avere il gold o il platino ma d...   \n",
       "3  si tutti scam, ci sono stati anche dei servizi...   \n",
       "4  peggio che nella vita reale, in queste app i r...   \n",
       "\n",
       "                                               Token  \n",
       "0  [riapro, topic, tema, affrontato, forum, prece...  \n",
       "1  [andrò, controcorrente, evitando, minimo, chan...  \n",
       "2  [tinder, platino, assolutamente, boost, cioè, ...  \n",
       "3  [scam, servizi, mediatici, ufficiali, dimostra...  \n",
       "4  [reale, app, rapporti, sbilanciati, vaginomuni...  "
      ]
     },
     "metadata": {},
     "output_type": "display_data"
    },
    {
     "name": "stdout",
     "output_type": "stream",
     "text": [
      "<class 'list'>\n",
      "File salvato: Dataset_FDB_w2v_locale.csv\n"
     ]
    }
   ],
   "source": [
    "#se il modello preaddestrato non funziona,c'è questo locale,basato sui miei commenti= fallback.\n",
    "df = pd.read_csv(\"Dataset_FDB_aggiornato.csv\")\n",
    "def estrai_token(testo):\n",
    "    doc = nlp(testo)\n",
    "    pos_valide = [\"ADJ\", \"NOUN\", \"VERB\", \"ADV\"]\n",
    "    return [token.text for token in doc if not token.is_punct and not token.is_stop and token.pos_ in pos_valide]\n",
    "\n",
    "df[\"Token\"] = df[\"No_emoji\"].apply(estrai_token)\n",
    "\n",
    "display(df[[\"No_emoji\", \"Token\"]].head(5))\n",
    "print(type(df[\"Token\"].iloc[0]))  #Verifichiamo, deve essere <class 'list'>\n",
    "df.to_csv(\"Dataset_FDB_w2v_locale.csv\", index=False, encoding=\"utf-8\")\n",
    "print(\"File salvato: Dataset_FDB_w2v_locale.csv\")"
   ]
  },
  {
   "cell_type": "markdown",
   "metadata": {},
   "source": [
    "#### Addestramento del modello\n",
    "Inizialmente viene preparato il **corpus** di testo estraendo i token da ogni commento e li trasformiamo in una lista di liste di parole.  \n",
    "Successivamente, viene addestrato un modello **Word2Vec locale** direttamente sui dati del nostro dataset, utilizzando i parametri più adatti a corpus di *dimensioni ridotte.*  \n",
    "I principali parametri specificati come `vector_size`, `window`, `sg` e `epochs` vengono scelti per garantire che il modello sia in grado di apprendere buone rappresentazioni delle parole anche in presenza di testo limitato o con termini particolari. \n",
    "- **sentences=corpus**: il mio corpus;\n",
    "- **vector_size=200**: ogni parola del vocabolario sarà trasformata in un vettore di 200 numeri,adatto a chi ha poco testo;\n",
    "- **window=5**: il modello guarda 5 parole prima e 5 dopo la parola target per capire il significato;\n",
    "- **min_count=1**: parola deve comparire almeno 1 volta;\n",
    "- **workers=4**: usa 4 processori in parallelo per velocizzare l’addestramento;\n",
    "- **1 = Skip-gram (0 = CBOW)**: sg=1 = usa Skip-Gram, predice il contesto dato il centro ed è meglio per parole rare (forum o slang). Se sg=0 = usa CBOW, che fa il contrario;\n",
    "- **epochs=40**: Ripete l’addestramento 40 volte su tutto il corpus per migliorare l’apprendimento.\n",
    "\n",
    "Al termine dell’addestramento, il modello viene salvato per poter essere riutilizzato nelle fasi successive dell’analisi."
   ]
  },
  {
   "cell_type": "code",
   "execution_count": null,
   "metadata": {
    "execution": {
     "iopub.execute_input": "2025-06-26T07:35:37.225850Z",
     "iopub.status.busy": "2025-06-26T07:35:37.225101Z",
     "iopub.status.idle": "2025-06-26T07:35:38.871802Z",
     "shell.execute_reply": "2025-06-26T07:35:38.871134Z",
     "shell.execute_reply.started": "2025-06-26T07:35:37.225821Z"
    },
    "trusted": true
   },
   "outputs": [
    {
     "name": "stdout",
     "output_type": "stream",
     "text": [
      "Modello Word2Vec locale salvato\n"
     ]
    }
   ],
   "source": [
    "corpus = df[\"Token\"].tolist()\n",
    "modello_w2v_locale = Word2Vec(sentences=corpus, vector_size=200, window=5, min_count=1, workers=4, sg=1, epochs=40)\n",
    "modello_w2v_locale.save(\"modello_word2vec_locale.model\")\n",
    "print(\"Modello Word2Vec locale salvato\")"
   ]
  },
  {
   "cell_type": "markdown",
   "metadata": {},
   "source": [
    "Quando addestriamo un modello Word2Vec **locale**, otteniamo un oggetto che contiene sia le informazioni utili per l’addestramento (training), sia i vettori delle parole (word vectors) che ci servono per calcolare similarità, analogie, ecc...\n",
    "Per accedere in modo diretto e sicuro **ai soli vettori delle parole** e alle funzioni di analisi (ad esempio `most_similar`, `similarity`), si utilizza la proprietà `.wv`:\n",
    "- `modello_w2v_locale.wv[\"parola\"]` restituisce il vettore della parola.\n",
    "- `modello_w2v_locale.wv.most_similar(\"parola\")` restituisce le parole più simili.\n",
    "\n",
    "Quindi:\n",
    "`.wv` contiene **solo la parte necessaria all’analisi** (i vettori), rendendo il modello più leggero e veloce da usare anche dopo l’addestramento.\n",
    "L’oggetto \"modello\" senza `.wv` contiene anche tutto il necessario per continuare o modificare l’addestramento, che non serve più nelle fasi successive di analisi.\n",
    "\n",
    "Nei modelli pre-addestrati Gensim (come **\"word2vec-google-news-300\"**) non usiamo **.wv** perché \n",
    "quando carichiamo un modello da `gensim.downloader.api` (ad esempio con api.load(\"word2vec-google-news-300\")), il risultato è **già solo l’oggetto dei vettori**, quindi non è necessario (né possibile) aggiungere `.wv`.\n",
    "\n",
    "___\n",
    "**Riferimento:**  \n",
    "[Documentazione Gensim – Word2Vec KeyedVectors](https://radimrehurek.com/gensim/models/keyedvectors.html)"
   ]
  },
  {
   "cell_type": "code",
   "execution_count": null,
   "metadata": {
    "execution": {
     "iopub.execute_input": "2025-06-26T07:36:02.759578Z",
     "iopub.status.busy": "2025-06-26T07:36:02.758870Z",
     "iopub.status.idle": "2025-06-26T07:36:02.763542Z",
     "shell.execute_reply": "2025-06-26T07:36:02.762801Z",
     "shell.execute_reply.started": "2025-06-26T07:36:02.759553Z"
    },
    "trusted": true
   },
   "outputs": [
    {
     "name": "stdout",
     "output_type": "stream",
     "text": [
      "0.65568995\n",
      "0.9820855\n"
     ]
    }
   ],
   "source": [
    "#esempi:\n",
    "print(modello_w2v_locale.wv.similarity(\"chad\", \"stacy\"))\n",
    "print(modello_w2v_locale.wv.similarity(\"bella\", \"feccia\"))"
   ]
  },
  {
   "cell_type": "markdown",
   "metadata": {},
   "source": [
    "#### 1. “chad” e “stacy” → 0.6557\n",
    "Un valore intorno a **0.65 indica una buona similarità semantica**, ma non identica, quindi il modello ha appreso che “chad” e “stacy” compaiono in contesti simili Così la cosine similarity è positiva e significativa, ma non eccellente né perfetta. Questo rientra nella fascia fra **0.3–0.7 che in NLP indica un’associazione media.**\n",
    "\n",
    "#### 2. \"bella” e “feccia” → 0.9821\n",
    "Un valore vicinissimo a 1 indica che i due vettori **puntano quasi nella stessa direzione nello spazio semantico**. Questo significa che il modello **ha associato spesso “bella” e “feccia” in contesti simili**, probabilmente perché usati **spesso insieme nei commenti** (es. “bella feccia”, “feccia bella”, sarcasmo, contesti negativi con “bella” usata ironicamente)."
   ]
  },
  {
   "cell_type": "code",
   "execution_count": null,
   "metadata": {
    "execution": {
     "iopub.execute_input": "2025-06-26T07:36:04.925165Z",
     "iopub.status.busy": "2025-06-26T07:36:04.924543Z",
     "iopub.status.idle": "2025-06-26T07:36:04.944479Z",
     "shell.execute_reply": "2025-06-26T07:36:04.943700Z",
     "shell.execute_reply.started": "2025-06-26T07:36:04.925141Z"
    },
    "trusted": true
   },
   "outputs": [],
   "source": [
    "df = pd.read_csv(\"Dataset_FDB_w2v_locale.csv\")\n",
    "def trova_sim_max(tokens, lista_pos, lista_neg, modello_w2v_locale):\n",
    "    similarita = []\n",
    "    classi = []\n",
    "    \n",
    "    for token in tokens:\n",
    "        if token in modello_w2v_locale.wv:\n",
    "            for p in lista_pos:\n",
    "                if p in modello_w2v_locale.wv:\n",
    "                    similarita.append(modello_w2v_locale.wv.similarity(token, p))\n",
    "                    classi.append(\"Positivo\")\n",
    "            for n in lista_neg:\n",
    "                if n in modello_w2v_locale.wv:\n",
    "                    similarita.append(modello_w2v_locale.wv.similarity(token, n))\n",
    "                    classi.append(\"Negativo\")\n",
    "\n",
    "    if similarita:\n",
    "        idx_max = np.argmax(similarita)\n",
    "        sim_max = similarita[idx_max]\n",
    "        classe_best = classi[idx_max]\n",
    "    else:\n",
    "        sim_max = 0\n",
    "        classe_best = \"Neutro\"\n",
    "    return sim_max, classe_best"
   ]
  },
  {
   "cell_type": "code",
   "execution_count": null,
   "metadata": {
    "execution": {
     "iopub.execute_input": "2025-06-26T07:36:10.593730Z",
     "iopub.status.busy": "2025-06-26T07:36:10.592983Z",
     "iopub.status.idle": "2025-06-26T07:36:12.039739Z",
     "shell.execute_reply": "2025-06-26T07:36:12.038914Z",
     "shell.execute_reply.started": "2025-06-26T07:36:10.593703Z"
    },
    "trusted": true
   },
   "outputs": [
    {
     "name": "stdout",
     "output_type": "stream",
     "text": [
      "    sim_max Sentiment\n",
      "0  0.996651  Negativo\n",
      "1  0.996651  Negativo\n",
      "2  0.996651  Negativo\n",
      "3  0.996651  Negativo\n",
      "4  0.996651  Negativo\n",
      "5  0.996651  Negativo\n",
      "6  0.996651  Negativo\n",
      "7  0.000000    Neutro\n",
      "8  0.996651  Negativo\n",
      "9  0.996651  Negativo\n",
      "File aggiornato: Dataset_FDB_w2v_locale.csv\n"
     ]
    }
   ],
   "source": [
    "lista_sim_max= []\n",
    "lista_sentimento = []\n",
    "\n",
    "for tokens in df[\"Token\"]:\n",
    "    sim, sentimento = trova_sim_max(tokens, parole_positive, parole_negative, modello_w2v_locale)\n",
    "    lista_sim_max.append(sim)\n",
    "    lista_sentimento.append(sentimento)\n",
    "\n",
    "df[\"sim_max\"] = lista_sim_max\n",
    "df[\"Sentiment\"] = lista_sentimento\n",
    "\n",
    "print(df[[\"sim_max\", \"Sentiment\"]].head(10))\n",
    "df.to_csv(\"DDataset_FDB_w2v_locale.csv\", index=False, encoding=\"utf-8\")\n",
    "print(\"File aggiornato: Dataset_FDB_w2v_locale.csv\")"
   ]
  },
  {
   "cell_type": "code",
   "execution_count": null,
   "metadata": {
    "execution": {
     "iopub.execute_input": "2025-06-26T07:36:18.290983Z",
     "iopub.status.busy": "2025-06-26T07:36:18.290713Z",
     "iopub.status.idle": "2025-06-26T07:36:18.475306Z",
     "shell.execute_reply": "2025-06-26T07:36:18.474531Z",
     "shell.execute_reply.started": "2025-06-26T07:36:18.290963Z"
    },
    "trusted": true
   },
   "outputs": [
    {
     "data": {
      "image/png": "[encoded data removed]",
      "text/plain": [
       "<Figure size 800x500 with 1 Axes>"
      ]
     },
     "metadata": {},
     "output_type": "display_data"
    }
   ],
   "source": [
    "#GENERIAMO IL GRAFICO\n",
    "sfumature_blu = [\"#0ea5e9\", \"#1e40af\", \"#60a5fa\"]\n",
    "sns.set(style=\"whitegrid\")\n",
    "plt.figure(figsize=(8, 5))\n",
    "sns.countplot(data=df, x=\"Sentiment\", palette=sfumature_blu)\n",
    "\n",
    "#Titolo ed etichette\n",
    "plt.title(\"Il sentiment prevalente è:\")\n",
    "plt.xlabel(\"Etichette\")\n",
    "plt.ylabel(\"Numero di commenti\")\n",
    "plt.tight_layout() #regola automaticamente gli spazi nel grafico...per evitare che si sovrappongano \n",
    "plt.show()"
   ]
  },
  {
   "cell_type": "markdown",
   "metadata": {},
   "source": [
    "#### Perché abbiamo ottenuto questo risultato?\n",
    "1. *Word2Vec impara solo dalle parole realmente presenti e frequenti nei dati.*  \n",
    "Se nel dataset (nella colonna `\"Token\"`) le parole positive non appaiono, oppure sono molto rare, il modello **non riuscirà ad apprendere buoni vettori** per esse.\n",
    "2. Anche impostando `min_count=1` il modello include tutte le parole, *ma se alcune compaiono pochissimo, i loro embedding saranno comunque casuali e poco rappresentativi*.\n",
    "3. *Se il corpus è piccolo*, i vettori appresi risultano generalmente **molto deboli, quasi “a caso”**: proprio perché il modello locale addestrato su poche centinaia o migliaia di commenti riesce a rappresentare bene solo le parole più frequenti.\n",
    "4. *Se le parole negative sono molto più comuni nei commenti* (ad esempio in un contesto con molti messaggi arrabbiati o insoddisfatti), il modello “imparerà” meglio quei vettori rispetto alle parole positive."
   ]
  },
  {
   "cell_type": "markdown",
   "metadata": {},
   "source": [
    "## 2. ANALISI DELLE TEMATICHE"
   ]
  },
  {
   "cell_type": "markdown",
   "metadata": {},
   "source": [
    "In questa seconda fase del progetto ci concentriamo sull’identificazione delle **tematiche principali** presenti nei commenti estratti dal forum Incel, sulla base del **codebook sviluppato per il paper CMC2025**.  \n",
    "L’approccio è *semantico*: invece di analizzare singole parole, consideriamo ogni commento come un'**unità di significato completa**. Usiamo quindi **Sentence Transformers** per calcolare la **similarità semantica** tra i commenti e alcune **frasi standard** definite per ciascuna tematica.\n",
    "\n",
    "Classificheremo automaticamente ogni commento in una delle **quattro categorie**:\n",
    "- **Affidabilità**: *Il commento riconosce la potenziale affidabilità o efficacia delle app di dating, ma generalmente a determinate condizioni o per determinate categorie di utenti. L'utente ammette che le app di dating possono funzionare o produrre\n",
    "risultati positivi in specifiche circostanze.*\n",
    "- **Inganno**: *Il commento fa riferimento a esperienze o percezioni di inganno, frode o falsità nelle app di dating. L'utente\n",
    "esprime preoccupazioni relative alla presenza di profili falsi, truffe, bot o account fraudolenti che compromettono l'autenticità dell'esperienza e minano la fiducia nella piattaforma.*\n",
    "- **Costo**:*Il commento fa riferimento agli aspetti economici delle app di dating, criticando in particolare il modello di business che richiede pagamenti per sbloccare funzionalità essenziali. L'utente esprime frustrazione per la percezione che le app\n",
    "favoriscano un sistema \"pay-to-win\" in cui solo chi investe denaro (oltre ad essere attraente) ha possibilità concrete di successo.*\n",
    "- **Inutilità**: *Il commento esprime la convinzione che le app di dating siano completamente inutili o inefficaci per uomini che non corrispondono agli standard estetici convenzionali (definiti come \"sub 7\" o non attraenti). L'utente considera che queste\n",
    "piattaforme rappresentino uno spreco di tempo ed energie per chi non possiede determinate caratteristiche fisiche.*"
   ]
  },
  {
   "cell_type": "code",
   "execution_count": null,
   "metadata": {
    "execution": {
     "iopub.execute_input": "2025-06-26T07:43:26.393284Z",
     "iopub.status.busy": "2025-06-26T07:43:26.392984Z",
     "iopub.status.idle": "2025-06-26T07:43:26.397053Z",
     "shell.execute_reply": "2025-06-26T07:43:26.396487Z",
     "shell.execute_reply.started": "2025-06-26T07:43:26.393263Z"
    },
    "trusted": true
   },
   "outputs": [],
   "source": [
    "from sentence_transformers import SentenceTransformer, util\n",
    "from sentence_transformers.util import cos_sim\n",
    "from sklearn.metrics import classification_report, confusion_matrix, ConfusionMatrixDisplay\n",
    "\n",
    "#SE riceveremo un messaggio di \"Warning\"= questi non sono errori bloccanti, ma warning informativi \n",
    "#generati quando usiamo librerie come PyTorch o Sentence Transformers con accelerazione hardware \n",
    "#(nel nostro caso:GPU)."
   ]
  },
  {
   "cell_type": "code",
   "execution_count": null,
   "metadata": {
    "execution": {
     "iopub.execute_input": "2025-06-26T07:43:30.391256Z",
     "iopub.status.busy": "2025-06-26T07:43:30.390710Z",
     "iopub.status.idle": "2025-06-26T07:43:30.411759Z",
     "shell.execute_reply": "2025-06-26T07:43:30.411052Z",
     "shell.execute_reply.started": "2025-06-26T07:43:30.391213Z"
    },
    "trusted": true
   },
   "outputs": [
    {
     "name": "stdout",
     "output_type": "stream",
     "text": [
      "Prime righe del dataset:\n"
     ]
    },
    {
     "data": {
      "text/html": [
       "<div>\n",
       "<style scoped>\n",
       "    .dataframe tbody tr th:only-of-type {\n",
       "        vertical-align: middle;\n",
       "    }\n",
       "\n",
       "    .dataframe tbody tr th {\n",
       "        vertical-align: top;\n",
       "    }\n",
       "\n",
       "    .dataframe thead th {\n",
       "        text-align: right;\n",
       "    }\n",
       "</style>\n",
       "<table border=\"1\" class=\"dataframe\">\n",
       "  <thead>\n",
       "    <tr style=\"text-align: right;\">\n",
       "      <th></th>\n",
       "      <th>Commenti</th>\n",
       "      <th>Temi_manuali</th>\n",
       "    </tr>\n",
       "  </thead>\n",
       "  <tbody>\n",
       "    <tr>\n",
       "      <th>0</th>\n",
       "      <td>riapro questo topic qui, il tema è stato più v...</td>\n",
       "      <td>Inutilità</td>\n",
       "    </tr>\n",
       "    <tr>\n",
       "      <th>1</th>\n",
       "      <td>Andrò controcorrente evitando di dire che se n...</td>\n",
       "      <td>Inutilità</td>\n",
       "    </tr>\n",
       "    <tr>\n",
       "      <th>2</th>\n",
       "      <td>Su tinder devi avere il gold o il platino ma d...</td>\n",
       "      <td>Costo</td>\n",
       "    </tr>\n",
       "    <tr>\n",
       "      <th>3</th>\n",
       "      <td>Si tutti scam, ci sono stati anche dei servizi...</td>\n",
       "      <td>Inganno</td>\n",
       "    </tr>\n",
       "  </tbody>\n",
       "</table>\n",
       "</div>"
      ],
      "text/plain": [
       "                                            Commenti Temi_manuali\n",
       "0  riapro questo topic qui, il tema è stato più v...    Inutilità\n",
       "1  Andrò controcorrente evitando di dire che se n...    Inutilità\n",
       "2  Su tinder devi avere il gold o il platino ma d...        Costo\n",
       "3  Si tutti scam, ci sono stati anche dei servizi...      Inganno"
      ]
     },
     "metadata": {},
     "output_type": "display_data"
    }
   ],
   "source": [
    "percorso_file = \"/kaggle/input/dataset-fdb-com-tem/Dataset_FDB_cet.csv\"\n",
    "df = pd.read_csv(percorso_file)\n",
    "df = df[[\"Commenti\", \"Temi_manuali\"]]\n",
    "\n",
    "print(\"Prime righe del dataset:\")\n",
    "display(df.head(4))"
   ]
  },
  {
   "cell_type": "markdown",
   "metadata": {},
   "source": [
    "### Frasi standard\n",
    "Adesso definiamo delle **liste di frasi rappresentative**, una per ciascuna **tematica**: \n",
    "- **Affidabilità**, \n",
    "- **Inganno**,\n",
    "- **Costo**,\n",
    "- **Inutilità**.\n",
    "\n",
    "Queste frasi sono state **estratte manualmente** all'interno del forum e adesso fungeranno da riferimento semantico per classificare i commenti nel nostro dataset. Mentre, durante le fasi successive, verrà calcolata la **similarità** tra ogni commento e ciascuna di queste frasi standard, e il commento verrà assegnato alla categoria con cui presenta la maggiore somiglianza semantica."
   ]
  },
  {
   "cell_type": "code",
   "execution_count": null,
   "metadata": {
    "execution": {
     "iopub.execute_input": "2025-06-26T07:43:36.165652Z",
     "iopub.status.busy": "2025-06-26T07:43:36.165350Z",
     "iopub.status.idle": "2025-06-26T07:43:36.170489Z",
     "shell.execute_reply": "2025-06-26T07:43:36.169728Z",
     "shell.execute_reply.started": "2025-06-26T07:43:36.165623Z"
    },
    "trusted": true
   },
   "outputs": [],
   "source": [
    "tematiche = {\n",
    "    \"Affidabilità\": [\"bravissimo, hinge è attualmente l'app migliore per quanto mi riguarda.\",\n",
    "                     \"Non tutte, io qualche appuntamento l'ho rimediato.\",\n",
    "                     \"A più utenti del forum ho consigliato hinge, il top secondo me.\",\n",
    "                     \"Quando avrò un po’ più di tempo libero, riproverò a rimettermi sulle app (tinder principalmente) con delle foto decenti in bei posti.\",\n",
    "                     \"Io mi trovo bene con Meetic.\"],\n",
    "    \n",
    "    \"Inganno\": [\"Si tutti scam.\",\n",
    "                \"Da li necessità di bot e profili fake. Risultato una spirale in cui nessuno usa più ste app.\",\n",
    "                \"Però che ne so che non erano bot la maggior parte?... l’altra che ho chattato poteva essere pure una IA.\",\n",
    "                \"Tanto uno come me cos'altro può aspettarsi se non truffatori nigeriani di merda basati in africa occidentale che mi ucciderebbero per derubarmi di 1000 euro.\",\n",
    "                \"Altra infornata di negre truffe su Hinge. Posso mandarvi a cagare quando dite di rimediare 7 vicino a casa?\"],\n",
    "    \n",
    "     \"Costo\": [\"Su tinder devi avere il gold o il platino ma devi avere assolutamente i BOOST.\",\n",
    "               \"Si , pure io ho avuto questa impressione tinder porta a qualche risultato, cioè paghi il platinum.\",\n",
    "               \"Paghi per qualsiasi cosa, cioè l'app che installi senza pagare è sostanzialmente una demo.\",\n",
    "               \"Tinder è però penalizzante perché l'algoritmo, se non paghi, ti affossa e non ti farà mai comparire.\",\n",
    "               \"Su tinder tutt’altra storia feci 1 mese di Platinum in promozione e i risultati furono abbondanti.\"],\n",
    "    \n",
    "    \"Inutilità\": [\"Peggio che nella vita reale, in queste app i rapporti di forza sono troppo sbilanciati a favore delle vaginomunite.\",\n",
    "                  \"Minchia beati voi... io sulle app non ho mai rimediato niente.\",\n",
    "                  \"Poi vabbè per un cesso vero sub 5 è finita in qualsiasi modo quindi sarebbero solo perdite di tempo.\",\n",
    "                  \"Non funzionano le app dating, neanche per i chad, lì si trova solo feccia o appunto gente che vuole solo farsi seguire su IG.\",\n",
    "                  \"Post covid, le app per incontri sono decadute.\"]}"
   ]
  },
  {
   "cell_type": "markdown",
   "metadata": {},
   "source": [
    "### Scelta del Modello: \n",
    "#### distiluse-base-multilingual-cased-v1\n",
    "\n",
    "Per il calcolo della similarità semantica tra frasi, dalla [**documentazione**](https://www.sbert.net/docs/sentence_transformer/pretrained_models.html):\n",
    "*\"distiluse-base-multilingual-cased-v1 : versione distillata della conoscenza multilingue del codificatore universale di frasi multilingue . Supporta 15 lingue: arabo, cinese, olandese, inglese, francese, tedesco, italiano, coreano, polacco, portoghese, russo, spagnolo, turco.\"*\n",
    "\n",
    "\n",
    "Ho scelto di utilizzare questo modello: **distiluse-base-multilingual-cased-v1** fornito da *Sentence Transformers*, soprattutto perché è un modello progettato per supportare molte lingue, tra cui l’**italiano**. Questo lo rende adatto al nostro dataset, che contiene commenti in italiano, scritti in modo informale o con espressioni gergali."
   ]
  },
  {
   "cell_type": "markdown",
   "metadata": {},
   "source": [
    "#### Prima di utilizzarlo:\n",
    "Nel processo di calcolo degli **embedding semantici** con **Sentence Transformers**, ogni commento deve essere fornito come frase testuale. Tuttavia, nei dataset reali (come quello da me utilizzato), possono comparire valori anomali o non testuali, ad esempio:\n",
    "- celle vuote o NaN (Not a Number),\n",
    "- numeri,\n",
    "- simboli,\n",
    "- errori di encoding.\n",
    " \n",
    "Questi elementi non sono compatibili con il modello SentenceTransformer, che si aspetta in input una lista di frasi, non valori numerici o nulli. Quindi, per evitare errori durante l’encoding, è necessario convertire ogni commento in stringa (str), anche se si tratta di un numero o di un valore anomalo."
   ]
  },
  {
   "cell_type": "code",
   "execution_count": null,
   "metadata": {
    "execution": {
     "iopub.execute_input": "2025-06-26T07:43:39.910701Z",
     "iopub.status.busy": "2025-06-26T07:43:39.909931Z",
     "iopub.status.idle": "2025-06-26T07:43:39.926016Z",
     "shell.execute_reply": "2025-06-26T07:43:39.925258Z",
     "shell.execute_reply.started": "2025-06-26T07:43:39.910666Z"
    },
    "trusted": true
   },
   "outputs": [
    {
     "name": "stdout",
     "output_type": "stream",
     "text": [
      "<class 'str'>\n",
      "File aggiornato: Dataset_FDB_cet.csv\n"
     ]
    }
   ],
   "source": [
    "df = df[df[\"Commenti\"].notna()] #mantiene righe non vuote\n",
    "df[\"Commenti\"] = df[\"Commenti\"].astype(str) #tutte stringhe\n",
    "\n",
    "print(type(commenti[0])) #mi interessa sapere il tipo dei suoi elementi = se ogni commento è una stringa.\n",
    "df.to_csv(\"Dataset_FDB_cet.csv\", index=False, encoding=\"utf-8\")\n",
    "print(\"File aggiornato: Dataset_FDB_cet.csv\")"
   ]
  },
  {
   "cell_type": "code",
   "execution_count": null,
   "metadata": {
    "execution": {
     "iopub.execute_input": "2025-06-26T07:43:42.376281Z",
     "iopub.status.busy": "2025-06-26T07:43:42.375562Z",
     "iopub.status.idle": "2025-06-26T07:43:47.348577Z",
     "shell.execute_reply": "2025-06-26T07:43:47.347764Z",
     "shell.execute_reply.started": "2025-06-26T07:43:42.376249Z"
    },
    "trusted": true
   },
   "outputs": [
    {
     "data": {
      "application/vnd.jupyter.widget-view+json": {
       "model_id": "a6842493118546aaae16e53d04ad2b31",
       "version_major": 2,
       "version_minor": 0
      },
      "text/plain": [
       "Batches:   0%|          | 0/7 [00:00<?, ?it/s]"
      ]
     },
     "metadata": {},
     "output_type": "display_data"
    },
    {
     "data": {
      "text/plain": [
       "array([[-0.05596764, -0.0578989 ,  0.05283777, ..., -0.08689537,\n",
       "         0.00308896, -0.00396666],\n",
       "       [ 0.02181151, -0.03704266, -0.0258544 , ..., -0.0808869 ,\n",
       "        -0.034323  , -0.02462036],\n",
       "       [-0.06222786, -0.01240618,  0.03282044, ..., -0.01444777,\n",
       "        -0.01282377,  0.04604583],\n",
       "       ...,\n",
       "       [-0.04789818,  0.00892673,  0.03982252, ..., -0.02216597,\n",
       "        -0.03052361,  0.01250213],\n",
       "       [-0.0045362 ,  0.03478095,  0.01406121, ...,  0.01931515,\n",
       "        -0.0913665 ,  0.02453193],\n",
       "       [-0.0505213 ,  0.04180625,  0.03004912, ..., -0.03763651,\n",
       "        -0.04125647,  0.04698633]], dtype=float32)"
      ]
     },
     "execution_count": 49,
     "metadata": {},
     "output_type": "execute_result"
    }
   ],
   "source": [
    "modello = SentenceTransformer(\"distiluse-base-multilingual-cased-v1\")\n",
    "commenti = df[\"Commenti\"].tolist()\n",
    "embedding_commenti = modello.encode(commenti) #contenuto in embedding=vettore numerico\n",
    "embedding_commenti"
   ]
  },
  {
   "cell_type": "code",
   "execution_count": null,
   "metadata": {
    "execution": {
     "iopub.execute_input": "2025-06-26T07:50:34.714105Z",
     "iopub.status.busy": "2025-06-26T07:50:34.713481Z",
     "iopub.status.idle": "2025-06-26T07:50:35.487678Z",
     "shell.execute_reply": "2025-06-26T07:50:35.486961Z",
     "shell.execute_reply.started": "2025-06-26T07:50:34.714082Z"
    },
    "trusted": true
   },
   "outputs": [
    {
     "data": {
      "application/vnd.jupyter.widget-view+json": {
       "model_id": "29ba11b2018f452a9f1ee1efa206e37a",
       "version_major": 2,
       "version_minor": 0
      },
      "text/plain": [
       "Batches:   0%|          | 0/1 [00:00<?, ?it/s]"
      ]
     },
     "metadata": {},
     "output_type": "display_data"
    },
    {
     "data": {
      "application/vnd.jupyter.widget-view+json": {
       "model_id": "112bbb4926934581beac45d41c1e7ea0",
       "version_major": 2,
       "version_minor": 0
      },
      "text/plain": [
       "Batches:   0%|          | 0/1 [00:00<?, ?it/s]"
      ]
     },
     "metadata": {},
     "output_type": "display_data"
    },
    {
     "data": {
      "application/vnd.jupyter.widget-view+json": {
       "model_id": "06b07c905515495bbba0e9a96a0b7f04",
       "version_major": 2,
       "version_minor": 0
      },
      "text/plain": [
       "Batches:   0%|          | 0/1 [00:00<?, ?it/s]"
      ]
     },
     "metadata": {},
     "output_type": "display_data"
    },
    {
     "data": {
      "application/vnd.jupyter.widget-view+json": {
       "model_id": "e4580e8322d241dfa20969e43beb66f5",
       "version_major": 2,
       "version_minor": 0
      },
      "text/plain": [
       "Batches:   0%|          | 0/1 [00:00<?, ?it/s]"
      ]
     },
     "metadata": {},
     "output_type": "display_data"
    },
    {
     "data": {
      "application/vnd.jupyter.widget-view+json": {
       "model_id": "5fe0ee756bcd403fa10493411c16a00b",
       "version_major": 2,
       "version_minor": 0
      },
      "text/plain": [
       "Batches:   0%|          | 0/1 [00:00<?, ?it/s]"
      ]
     },
     "metadata": {},
     "output_type": "display_data"
    },
    {
     "data": {
      "application/vnd.jupyter.widget-view+json": {
       "model_id": "058537547ee5424797c7039eec41e8b4",
       "version_major": 2,
       "version_minor": 0
      },
      "text/plain": [
       "Batches:   0%|          | 0/1 [00:00<?, ?it/s]"
      ]
     },
     "metadata": {},
     "output_type": "display_data"
    },
    {
     "data": {
      "application/vnd.jupyter.widget-view+json": {
       "model_id": "3a454b77f7524ecb87ce1fcaa9ed4c5d",
       "version_major": 2,
       "version_minor": 0
      },
      "text/plain": [
       "Batches:   0%|          | 0/1 [00:00<?, ?it/s]"
      ]
     },
     "metadata": {},
     "output_type": "display_data"
    },
    {
     "data": {
      "application/vnd.jupyter.widget-view+json": {
       "model_id": "4c8c9bcafe53430da5fa01ec12d357f0",
       "version_major": 2,
       "version_minor": 0
      },
      "text/plain": [
       "Batches:   0%|          | 0/1 [00:00<?, ?it/s]"
      ]
     },
     "metadata": {},
     "output_type": "display_data"
    },
    {
     "data": {
      "application/vnd.jupyter.widget-view+json": {
       "model_id": "e479169e9dba4f33b7b536bdb28dc3d3",
       "version_major": 2,
       "version_minor": 0
      },
      "text/plain": [
       "Batches:   0%|          | 0/1 [00:00<?, ?it/s]"
      ]
     },
     "metadata": {},
     "output_type": "display_data"
    },
    {
     "data": {
      "application/vnd.jupyter.widget-view+json": {
       "model_id": "67f29224fbba4f9abaed4335ac6cdac2",
       "version_major": 2,
       "version_minor": 0
      },
      "text/plain": [
       "Batches:   0%|          | 0/1 [00:00<?, ?it/s]"
      ]
     },
     "metadata": {},
     "output_type": "display_data"
    },
    {
     "data": {
      "application/vnd.jupyter.widget-view+json": {
       "model_id": "7de9856a42424cf2aac1ea16964fbdcb",
       "version_major": 2,
       "version_minor": 0
      },
      "text/plain": [
       "Batches:   0%|          | 0/1 [00:00<?, ?it/s]"
      ]
     },
     "metadata": {},
     "output_type": "display_data"
    },
    {
     "data": {
      "application/vnd.jupyter.widget-view+json": {
       "model_id": "efc75f4b54e049f6a73caabc4375be6f",
       "version_major": 2,
       "version_minor": 0
      },
      "text/plain": [
       "Batches:   0%|          | 0/1 [00:00<?, ?it/s]"
      ]
     },
     "metadata": {},
     "output_type": "display_data"
    },
    {
     "data": {
      "application/vnd.jupyter.widget-view+json": {
       "model_id": "803781bb39454f88943341d594966d77",
       "version_major": 2,
       "version_minor": 0
      },
      "text/plain": [
       "Batches:   0%|          | 0/1 [00:00<?, ?it/s]"
      ]
     },
     "metadata": {},
     "output_type": "display_data"
    },
    {
     "data": {
      "application/vnd.jupyter.widget-view+json": {
       "model_id": "cd1d5bea36fc4ba29537a689eacdcd18",
       "version_major": 2,
       "version_minor": 0
      },
      "text/plain": [
       "Batches:   0%|          | 0/1 [00:00<?, ?it/s]"
      ]
     },
     "metadata": {},
     "output_type": "display_data"
    },
    {
     "data": {
      "application/vnd.jupyter.widget-view+json": {
       "model_id": "b434121bc8fd457e97cc828372f62c96",
       "version_major": 2,
       "version_minor": 0
      },
      "text/plain": [
       "Batches:   0%|          | 0/1 [00:00<?, ?it/s]"
      ]
     },
     "metadata": {},
     "output_type": "display_data"
    },
    {
     "data": {
      "application/vnd.jupyter.widget-view+json": {
       "model_id": "e1ab5db316884772a19c92992432b6e5",
       "version_major": 2,
       "version_minor": 0
      },
      "text/plain": [
       "Batches:   0%|          | 0/1 [00:00<?, ?it/s]"
      ]
     },
     "metadata": {},
     "output_type": "display_data"
    },
    {
     "data": {
      "application/vnd.jupyter.widget-view+json": {
       "model_id": "7236ef1e856a4cd4ae06f3fdf972fe7e",
       "version_major": 2,
       "version_minor": 0
      },
      "text/plain": [
       "Batches:   0%|          | 0/1 [00:00<?, ?it/s]"
      ]
     },
     "metadata": {},
     "output_type": "display_data"
    },
    {
     "data": {
      "application/vnd.jupyter.widget-view+json": {
       "model_id": "2a64f7c37fac47419ca05db0f171b5e4",
       "version_major": 2,
       "version_minor": 0
      },
      "text/plain": [
       "Batches:   0%|          | 0/1 [00:00<?, ?it/s]"
      ]
     },
     "metadata": {},
     "output_type": "display_data"
    },
    {
     "data": {
      "application/vnd.jupyter.widget-view+json": {
       "model_id": "e87f4a45756a4c8d82465b2ecb5f93d6",
       "version_major": 2,
       "version_minor": 0
      },
      "text/plain": [
       "Batches:   0%|          | 0/1 [00:00<?, ?it/s]"
      ]
     },
     "metadata": {},
     "output_type": "display_data"
    },
    {
     "data": {
      "application/vnd.jupyter.widget-view+json": {
       "model_id": "b9273442f5a44727bdf22e4d5642fd40",
       "version_major": 2,
       "version_minor": 0
      },
      "text/plain": [
       "Batches:   0%|          | 0/1 [00:00<?, ?it/s]"
      ]
     },
     "metadata": {},
     "output_type": "display_data"
    },
    {
     "data": {
      "text/html": [
       "<div>\n",
       "<style scoped>\n",
       "    .dataframe tbody tr th:only-of-type {\n",
       "        vertical-align: middle;\n",
       "    }\n",
       "\n",
       "    .dataframe tbody tr th {\n",
       "        vertical-align: top;\n",
       "    }\n",
       "\n",
       "    .dataframe thead th {\n",
       "        text-align: right;\n",
       "    }\n",
       "</style>\n",
       "<table border=\"1\" class=\"dataframe\">\n",
       "  <thead>\n",
       "    <tr style=\"text-align: right;\">\n",
       "      <th></th>\n",
       "      <th>Commenti</th>\n",
       "      <th>Temi_manuali</th>\n",
       "      <th>Tema_predetto</th>\n",
       "    </tr>\n",
       "  </thead>\n",
       "  <tbody>\n",
       "    <tr>\n",
       "      <th>0</th>\n",
       "      <td>riapro questo topic qui, il tema è stato più v...</td>\n",
       "      <td>Inutilità</td>\n",
       "      <td>Costo</td>\n",
       "    </tr>\n",
       "    <tr>\n",
       "      <th>1</th>\n",
       "      <td>Andrò controcorrente evitando di dire che se n...</td>\n",
       "      <td>Inutilità</td>\n",
       "      <td>Affidabilità</td>\n",
       "    </tr>\n",
       "    <tr>\n",
       "      <th>2</th>\n",
       "      <td>Su tinder devi avere il gold o il platino ma d...</td>\n",
       "      <td>Costo</td>\n",
       "      <td>Costo</td>\n",
       "    </tr>\n",
       "    <tr>\n",
       "      <th>3</th>\n",
       "      <td>Si tutti scam, ci sono stati anche dei servizi...</td>\n",
       "      <td>Inganno</td>\n",
       "      <td>Inutilità</td>\n",
       "    </tr>\n",
       "    <tr>\n",
       "      <th>4</th>\n",
       "      <td>Peggio che nella vita reale, in queste app i r...</td>\n",
       "      <td>Inutilità</td>\n",
       "      <td>Inutilità</td>\n",
       "    </tr>\n",
       "    <tr>\n",
       "      <th>5</th>\n",
       "      <td>hai spiegato perfettamente perchè queste app n...</td>\n",
       "      <td>Inganno</td>\n",
       "      <td>Inganno</td>\n",
       "    </tr>\n",
       "    <tr>\n",
       "      <th>6</th>\n",
       "      <td>per me tutte le dating app andrebbero bannate ...</td>\n",
       "      <td>Inutilità</td>\n",
       "      <td>Inutilità</td>\n",
       "    </tr>\n",
       "    <tr>\n",
       "      <th>7</th>\n",
       "      <td>Crude le dating apps</td>\n",
       "      <td>Inutilità</td>\n",
       "      <td>Inutilità</td>\n",
       "    </tr>\n",
       "    <tr>\n",
       "      <th>8</th>\n",
       "      <td>si , pure io ho avuto questa impressione\\n tin...</td>\n",
       "      <td>Costo</td>\n",
       "      <td>Costo</td>\n",
       "    </tr>\n",
       "    <tr>\n",
       "      <th>9</th>\n",
       "      <td>Giusto ieri abbiamo spottato con dei miei amic...</td>\n",
       "      <td>Inganno</td>\n",
       "      <td>Inutilità</td>\n",
       "    </tr>\n",
       "  </tbody>\n",
       "</table>\n",
       "</div>"
      ],
      "text/plain": [
       "                                            Commenti Temi_manuali  \\\n",
       "0  riapro questo topic qui, il tema è stato più v...    Inutilità   \n",
       "1  Andrò controcorrente evitando di dire che se n...    Inutilità   \n",
       "2  Su tinder devi avere il gold o il platino ma d...        Costo   \n",
       "3  Si tutti scam, ci sono stati anche dei servizi...      Inganno   \n",
       "4  Peggio che nella vita reale, in queste app i r...    Inutilità   \n",
       "5  hai spiegato perfettamente perchè queste app n...      Inganno   \n",
       "6  per me tutte le dating app andrebbero bannate ...    Inutilità   \n",
       "7                               Crude le dating apps    Inutilità   \n",
       "8  si , pure io ho avuto questa impressione\\n tin...        Costo   \n",
       "9  Giusto ieri abbiamo spottato con dei miei amic...      Inganno   \n",
       "\n",
       "  Tema_predetto  \n",
       "0         Costo  \n",
       "1  Affidabilità  \n",
       "2         Costo  \n",
       "3     Inutilità  \n",
       "4     Inutilità  \n",
       "5       Inganno  \n",
       "6     Inutilità  \n",
       "7     Inutilità  \n",
       "8         Costo  \n",
       "9     Inutilità  "
      ]
     },
     "metadata": {},
     "output_type": "display_data"
    },
    {
     "name": "stdout",
     "output_type": "stream",
     "text": [
      "File aggiornato: Dataset_FDB_cet.csv\n"
     ]
    }
   ],
   "source": [
    "emb_tematiche = {} #dizionario che, per ogni tematica, contiene la lista dei suoi vettori (embedding)\n",
    "for tema, frasi in tematiche.items():\n",
    "    embeddings = [] #raccogliamo gli embedding delle frasi di quella tematica\n",
    "    for frase in frasi:\n",
    "        embedding = modello.encode(frase) #calcola embedding della frase=la frase viene trasformata in un vettore numerico con il modello\n",
    "        embeddings.append(embedding) #salva la lista nel dizionario\n",
    "    emb_tematiche[tema] = embeddings #sotto il rispettivo nome della tematica\n",
    "nomi_temi = list(emb_tematiche.keys()) #lista di nomi delle tematiche presenti come chiavi nel dizionario,per scorrere facilmente tutte le tematiche durante il ciclo di classificazione\n",
    "Temi_predetti = []\n",
    "\n",
    "for emb_commento in embedding_commenti: #per ogni embedding\n",
    "    sim_massime = [] #dove salveremo la similarità max\n",
    "    for tema in nomi_temi:\n",
    "        sim_frasis = [cos_sim(emb_commento, emb_frase).mean().item() #Calcola la similarità del coseno tra l'embedding del commento \n",
    "                      for emb_frase in emb_tematiche[tema]] #e l'embedding della frase di riferimento\n",
    "        sim_massime.append(max(sim_frasis)) #massimi di tutte le tematiche\n",
    "\n",
    "    idx_max = np.argmax(sim_massime) #1° tra i massimi di tutte le tematiche, trova l’indice della tematica corrispondente\n",
    "    Temi_predetti.append(nomi_temi[idx_max])\n",
    "\n",
    "df[\"Tema_predetto\"] = Temi_predetti\n",
    "display(df[[\"Commenti\", \"Temi_manuali\", \"Tema_predetto\"]].head(10))\n",
    "df.to_csv(\"Dataset_FDB_cet.csv\", index=False, encoding=\"utf-8\")\n",
    "print(\"File aggiornato: Dataset_FDB_cet.csv\")"
   ]
  },
  {
   "cell_type": "code",
   "execution_count": null,
   "metadata": {
    "execution": {
     "iopub.execute_input": "2025-06-26T07:50:39.846839Z",
     "iopub.status.busy": "2025-06-26T07:50:39.846210Z",
     "iopub.status.idle": "2025-06-26T07:50:40.033145Z",
     "shell.execute_reply": "2025-06-26T07:50:40.032403Z",
     "shell.execute_reply.started": "2025-06-26T07:50:39.846817Z"
    },
    "trusted": true
   },
   "outputs": [
    {
     "data": {
      "image/png": "[encoded data removed]",
      "text/plain": [
       "<Figure size 800x500 with 1 Axes>"
      ]
     },
     "metadata": {},
     "output_type": "display_data"
    }
   ],
   "source": [
    "#GENERIAMO IL GRAFICO\n",
    "palette_viola = [\"#ce93d8\", \"#ba68c8\", \"#ab47bc\", \"#8e24aa\"]\n",
    "sns.set(style=\"whitegrid\")\n",
    "plt.figure(figsize=(8, 5))\n",
    "sns.countplot(data=df, x=\"Tema_predetto\", palette=palette_viola)\n",
    "\n",
    "#Titolo ed etichette\n",
    "plt.title(\"Distribuzione delle tematiche predette\")\n",
    "plt.xlabel(\"Tematiche\")\n",
    "plt.ylabel(\"Numero di commenti\")\n",
    "plt.tight_layout()\n",
    "plt.show()"
   ]
  },
  {
   "cell_type": "code",
   "execution_count": null,
   "metadata": {
    "execution": {
     "iopub.execute_input": "2025-06-26T07:50:43.792377Z",
     "iopub.status.busy": "2025-06-26T07:50:43.791894Z",
     "iopub.status.idle": "2025-06-26T07:50:43.824515Z",
     "shell.execute_reply": "2025-06-26T07:50:43.823768Z",
     "shell.execute_reply.started": "2025-06-26T07:50:43.792355Z"
    },
    "trusted": true
   },
   "outputs": [
    {
     "name": "stdout",
     "output_type": "stream",
     "text": [
      "Report di valutazione tra etichette manuali e predette:\n",
      "              precision    recall  f1-score   support\n",
      "\n",
      "Affidabilità       0.21      0.57      0.31        14\n",
      "       Costo       0.25      0.65      0.36        23\n",
      "     Inganno       0.33      0.26      0.29        35\n",
      "   Inutilità       0.83      0.51      0.63       140\n",
      "\n",
      "    accuracy                           0.49       212\n",
      "   macro avg       0.41      0.50      0.40       212\n",
      "weighted avg       0.64      0.49      0.53       212\n",
      "\n"
     ]
    }
   ],
   "source": [
    "df = pd.read_csv(\"Dataset_FDB_cet.csv\")\n",
    "\n",
    "if \"Temi_manuali\" in df.columns and \"Tema_predetto\" in df.columns:\n",
    "    print(\"Report di valutazione tra etichette manuali e predette:\")\n",
    "    print(classification_report(df[\"Temi_manuali\"], df[\"Tema_predetto\"]))"
   ]
  },
  {
   "cell_type": "markdown",
   "metadata": {},
   "source": [
    "#### Report di valutazione\n",
    "- **Precision** elevata per **\"Inutilità\"** perché quando il modello predice questa classe, è corretto nell'83% dei casi.\n",
    "- **Recall** discreto per **\"Costo\"** perché riesce a catturare una buona percentuale dei casi reali di questa categoria.\n",
    "- **Precision** molto bassa per **\"Affidabilità\"** (0.21) e **\"Costo\"** (0.25) perchè vi è un alto tasso di falsi positivi.\n",
    "- **Recall** problematico per **\"Inganno\"** (0.26): il modello perde il 74% dei casi reali.\n",
    "\n",
    "Con un'**accuracy complessiva del 49%**, il modello performa appena **sotto la soglia di accettabilità**.   \n",
    "La weighted average (0.53 F1-score) riflette l'influenza della classe dominante, mentre la macro average (0.40 F1-score) **rivela le reali difficoltà nel gestire tutte le classi equamente.** "
   ]
  },
  {
   "cell_type": "code",
   "execution_count": null,
   "metadata": {
    "execution": {
     "iopub.execute_input": "2025-06-26T07:50:46.893591Z",
     "iopub.status.busy": "2025-06-26T07:50:46.892919Z",
     "iopub.status.idle": "2025-06-26T07:50:47.165179Z",
     "shell.execute_reply": "2025-06-26T07:50:47.164518Z",
     "shell.execute_reply.started": "2025-06-26T07:50:46.893571Z"
    },
    "trusted": true
   },
   "outputs": [
    {
     "data": {
      "image/png": "[encoded data removed]",
      "text/plain": [
       "<Figure size 640x480 with 2 Axes>"
      ]
     },
     "metadata": {},
     "output_type": "display_data"
    }
   ],
   "source": [
    "#Matrice di confusione\n",
    "df = pd.read_csv(\"Dataset_FDB_cet.csv\")\n",
    "cm = confusion_matrix(df[\"Temi_manuali\"], df[\"Tema_predetto\"]) #Confrontiamo i valori riga per riga tra standard e predizione\n",
    "labels = sorted(df[\"Temi_manuali\"].unique()) #Ordiniamo alfabeticamente le etichette manuali per metterle in ordine sulla matrice\n",
    "\n",
    "cm_display = ConfusionMatrixDisplay(confusion_matrix=cm, display_labels=labels)\n",
    "cm_display.plot()\n",
    "plt.title(\"Confusion Matrix – Tematiche\")\n",
    "plt.show()"
   ]
  },
  {
   "cell_type": "markdown",
   "metadata": {},
   "source": [
    "#### Matrice di confusione\n",
    "La *matrice di confusione* presentata ci permette di visualizzare le **performance** di un modello sviluppato per la **classificazione automatica** di contenuti testuali in lingua italiani,questi sono stati suddivisi in quattro classi tematiche principali: **Affidabilità, Costo, Inganno e Inutilità**.\n",
    "La rappresentazione grafica utilizza una *mappa di calore (heatmap) con una scala cromatica che varia dal viola scuro (valori bassi, prossimi allo zero) al giallo brillante (valori elevati, fino a 72)*, in queso modo possiamo identificare immediatamente i pattern di classificazione e gli errori del modello.\n",
    "La matrice è organizzata secondo la convenzione standard:\n",
    "- **Asse verticale (True label)**: rappresenta le categorie reali, ovvero l'etichettatura corretta dei contenuti;\n",
    "- **Asse orizzontale (Predicted label)**: mostra le predizioni generate dal modello di classificazione;\n",
    "- **Valori numerici**: indicano la frequenza assoluta di ogni combinazione predizione-realtà.\n",
    "  \n",
    "Il modello mostra una forte capacità predittiva per la classe **\"Inutilità\"** con 72 predizioni corrette, rappresentando chiaramente la classe dominante nel dataset.Tuttavia, emerge una confusione significativa tra le altre categorie.     \n",
    "La classe **\"Costo\"** presenta 15 true positives ma viene spesso *confusa con \"Inutilità\"* (34 falsi negativi), suggerendo che il modello tende a sovrastimare l'inutilità quando dovrebbe identificare questioni di costo. Anche **\"Affidabilità\"** e **\"Inganno\"** mostrano pattern simili di confusione verso \"Inutilità\"."
   ]
  },
  {
   "cell_type": "markdown",
   "metadata": {},
   "source": [
    "## 3. ANALISI DELLE EMOZIONI"
   ]
  },
  {
   "cell_type": "markdown",
   "metadata": {},
   "source": [
    "In questa terza fase del progetto ci concentriamo sull’identificazione delle **emozioni** presenti nei commenti estratti dal forum Incel, sulla base del **codebook sviluppato per il paper CMC2025**.  \n",
    "L’approccio è *semantico*: invece di analizzare singole parole, consideriamo ogni commento come un'**unità di significato completa**. Usiamo quindi **Sentence Transformers** per calcolare la **similarità semantica** tra i commenti e alcune **frasi standard** definite per ciascuna tematica.\n",
    "\n",
    "Classificheremo automaticamente ogni commento in una delle **tre categorie**:\n",
    "- **Speranza**:*Il commento esprime un sentimento di ottimismo o fiducia nella possibilità di ottenere risultati positivi sulle app di dating, nonostante le difficoltà. L'utente manifesta la convinzione che, attraverso determinati cambiamenti, strategie o approcci, sia possibile migliorare la propria esperienza e raggiungere i risultati desiderati in futuro.*\n",
    "- **Scetticismo**:*Il commento esprime un atteggiamento di dubbio, distacco o valutazione critica ma razionale riguardo alle app di dating. L'utente manifesta una posizione né fortemente negativa né positiva, ma piuttosto una considerazione pragmatica sulle limitazioni o sui problemi strutturali di queste piattaforme, senza un coinvolgimento emotivo intenso.* \n",
    "- **Frustrazione**:*Il commento esprime un forte sentimento di insoddisfazione ricorrente, inadeguatezza o impotenza rispetto all'utilizzo delle app di dating. L'utente manifesta rabbia, delusione o sconforto derivanti da esperienze negative ripetute, sensazione di esclusione o impossibilità di raggiungere risultati desiderati nonostante i tentativi.*\n"
   ]
  },
  {
   "cell_type": "code",
   "execution_count": null,
   "metadata": {
    "execution": {
     "iopub.execute_input": "2025-06-26T07:50:51.763269Z",
     "iopub.status.busy": "2025-06-26T07:50:51.762536Z",
     "iopub.status.idle": "2025-06-26T07:50:51.802135Z",
     "shell.execute_reply": "2025-06-26T07:50:51.801572Z",
     "shell.execute_reply.started": "2025-06-26T07:50:51.763243Z"
    },
    "trusted": true
   },
   "outputs": [
    {
     "name": "stdout",
     "output_type": "stream",
     "text": [
      "Prime righe del dataset:\n"
     ]
    },
    {
     "data": {
      "text/html": [
       "<div>\n",
       "<style scoped>\n",
       "    .dataframe tbody tr th:only-of-type {\n",
       "        vertical-align: middle;\n",
       "    }\n",
       "\n",
       "    .dataframe tbody tr th {\n",
       "        vertical-align: top;\n",
       "    }\n",
       "\n",
       "    .dataframe thead th {\n",
       "        text-align: right;\n",
       "    }\n",
       "</style>\n",
       "<table border=\"1\" class=\"dataframe\">\n",
       "  <thead>\n",
       "    <tr style=\"text-align: right;\">\n",
       "      <th></th>\n",
       "      <th>Commenti</th>\n",
       "      <th>Emozioni_manuali</th>\n",
       "    </tr>\n",
       "  </thead>\n",
       "  <tbody>\n",
       "    <tr>\n",
       "      <th>0</th>\n",
       "      <td>riapro questo topic qui, il tema è stato più v...</td>\n",
       "      <td>Frustrazione</td>\n",
       "    </tr>\n",
       "    <tr>\n",
       "      <th>1</th>\n",
       "      <td>Andrò controcorrente evitando di dire che se n...</td>\n",
       "      <td>Frustrazione</td>\n",
       "    </tr>\n",
       "    <tr>\n",
       "      <th>2</th>\n",
       "      <td>Su tinder devi avere il gold o il platino ma d...</td>\n",
       "      <td>Scetticismo</td>\n",
       "    </tr>\n",
       "    <tr>\n",
       "      <th>3</th>\n",
       "      <td>Si tutti scam, ci sono stati anche dei servizi...</td>\n",
       "      <td>Frustrazione</td>\n",
       "    </tr>\n",
       "  </tbody>\n",
       "</table>\n",
       "</div>"
      ],
      "text/plain": [
       "                                            Commenti Emozioni_manuali\n",
       "0  riapro questo topic qui, il tema è stato più v...     Frustrazione\n",
       "1  Andrò controcorrente evitando di dire che se n...     Frustrazione\n",
       "2  Su tinder devi avere il gold o il platino ma d...      Scetticismo\n",
       "3  Si tutti scam, ci sono stati anche dei servizi...     Frustrazione"
      ]
     },
     "metadata": {},
     "output_type": "display_data"
    }
   ],
   "source": [
    "percorso_file = \"/kaggle/input/dataset-fdb-emoz/Dataset_FDB_emoz.csv\"\n",
    "df = pd.read_csv(percorso_file)\n",
    "df = df[[\"Commenti\", \"Emozioni_manuali\"]]\n",
    "\n",
    "print(\"Prime righe del dataset:\")\n",
    "display(df.head(4))"
   ]
  },
  {
   "cell_type": "markdown",
   "metadata": {},
   "source": [
    "### Frasi standard\n",
    "Adesso definiamo delle **liste di frasi rappresentative**, una per ciascuna **emozione**: \n",
    "- **Speranza**, \n",
    "- **Scetticismo**,\n",
    "- **Frustrazione**,\n",
    "\n",
    "Queste frasi sono state **estratte manualmente** all'interno del forum e adesso fungeranno da riferimento semantico per classificare i commenti nel nostro dataset. Mentre, durante le fasi successive, verrà calcolata la **similarità** tra ogni commento e ciascuna di queste frasi standard, e il commento verrà assegnato alla categoria con cui presenta la maggiore somiglianza semantica."
   ]
  },
  {
   "cell_type": "code",
   "execution_count": null,
   "metadata": {
    "execution": {
     "iopub.execute_input": "2025-06-26T07:50:55.978690Z",
     "iopub.status.busy": "2025-06-26T07:50:55.978181Z",
     "iopub.status.idle": "2025-06-26T07:50:55.983043Z",
     "shell.execute_reply": "2025-06-26T07:50:55.982266Z",
     "shell.execute_reply.started": "2025-06-26T07:50:55.978667Z"
    },
    "trusted": true
   },
   "outputs": [],
   "source": [
    "Emozioni = {\n",
    "    \"Speranza\": [\"Si,pure io ho avuto questa impressione tinder porta a qualche risultato, cioè paghi il platinum, è vero, però ottieni anche uscite.\",\n",
    "                 \"Ma tinder platino assolutamente approvato, con delle foto decenti e non professionali veramente fai il salto di qualità.\",\n",
    "                 \"E si, con le app ci scopo, so di cosa parlo.\",\n",
    "                 \"Ovvio,abbassando l eta hai molte più np con cui puoi matchare.\",\n",
    "                 \"Non tutte, io qualche appuntamento l'ho rimediato.\"],\n",
    "    \n",
    "    \"Scetticismo\": [\"Personalmente ne ho provate alcune molti anni fa, se non ricordo male Tinder, badoo e meetic. Tutte secondo me hanno una cosa in comune ovvero la perdita di tempo, come è risaputo sei limitato se non paghi.\",\n",
    "                    \"secondo me se una sta sulle app dating/social al 99.9% non fa per noi... il BC è alto ecc.\",\n",
    "                    \"“sto dicendo che il 99.9% sono tipe in qualche modo da evitare, poi magari 1 su 1000 li si trova.\",\n",
    "                    \"Una volta forse era un po' meglio, ma adesso è tutto impostato sul look.\",\n",
    "                    \"Dipende sempre da quello che uno vuole, i pro ed i contro, l'eventuale perdita esistenziale.\"],\n",
    "    \n",
    "     \"Frustrazione\": [\"Andrò controcorrente evitando di dire che se non sei minimo un 6,5-7 non hai chances.\",\n",
    "                      \"Per me tutte le dating app andrebbero bannate in quanto una delle cause della sconfinata ed inarrestabile ipergamia femminile\",\n",
    "                      \"Crude le dating apps.\",\n",
    "                      \"Le app sono una truffa e le donne sono una trappola. Simple as that.\",\n",
    "                      \"Ci sono ancora dementi che si iscrivono a Tinder.\",]}"
   ]
  },
  {
   "cell_type": "markdown",
   "metadata": {},
   "source": [
    "### Scelta del modello\n",
    "Modello: **paraphrase-albert-small-v2** visto durante la [lezione 16](https://drive.google.com/file/d/1B10io-LYV6zg-A4Kxfo9_RJr1uN7dgxe/view?usp=sharing)"
   ]
  },
  {
   "cell_type": "markdown",
   "metadata": {},
   "source": [
    "#### Prima di utilizzarlo:\n",
    "Nel processo di calcolo degli **embedding semantici** con **Sentence Transformers**, ogni commento deve essere fornito come frase testuale. Tuttavia, nei dataset reali (come quello da me utilizzato), possono comparire valori anomali o non testuali, ad esempio:\n",
    "- celle vuote o NaN (Not a Number),\n",
    "- numeri,\n",
    "- simboli,\n",
    "- errori di encoding.\n",
    " \n",
    "Questi elementi non sono compatibili con il modello SentenceTransformer, che si aspetta in input una lista di frasi, non valori numerici o nulli. Quindi, per evitare errori durante l’encoding, è necessario convertire ogni commento in stringa (str), anche se si tratta di un numero o di un valore anomalo."
   ]
  },
  {
   "cell_type": "code",
   "execution_count": null,
   "metadata": {
    "execution": {
     "iopub.execute_input": "2025-06-26T07:50:58.656923Z",
     "iopub.status.busy": "2025-06-26T07:50:58.656647Z",
     "iopub.status.idle": "2025-06-26T07:50:58.668191Z",
     "shell.execute_reply": "2025-06-26T07:50:58.667267Z",
     "shell.execute_reply.started": "2025-06-26T07:50:58.656905Z"
    },
    "trusted": true
   },
   "outputs": [
    {
     "name": "stdout",
     "output_type": "stream",
     "text": [
      "<class 'str'>\n",
      "File aggiornato: Dataset_FDB_emoz.csv\n"
     ]
    }
   ],
   "source": [
    "df = df[df[\"Commenti\"].notna()]\n",
    "df[\"Commenti\"] = df[\"Commenti\"].astype(str)\n",
    "\n",
    "print(type(commenti[0])) #mi interessa sapere se il tipo dei suoi elementi = se ogni commento è una stringa.\n",
    "df.to_csv(\"Dataset_FDB_emoz.csv\", index=False, encoding=\"utf-8\")\n",
    "print(\"File aggiornato: Dataset_FDB_emoz.csv\")"
   ]
  },
  {
   "cell_type": "code",
   "execution_count": null,
   "metadata": {
    "execution": {
     "iopub.execute_input": "2025-06-26T07:51:01.823979Z",
     "iopub.status.busy": "2025-06-26T07:51:01.823252Z",
     "iopub.status.idle": "2025-06-26T07:51:15.062137Z",
     "shell.execute_reply": "2025-06-26T07:51:15.061535Z",
     "shell.execute_reply.started": "2025-06-26T07:51:01.823957Z"
    },
    "trusted": true
   },
   "outputs": [
    {
     "data": {
      "application/vnd.jupyter.widget-view+json": {
       "model_id": "7135837fb81e4f6dbfa5abb1de162f8e",
       "version_major": 2,
       "version_minor": 0
      },
      "text/plain": [
       "modules.json:   0%|          | 0.00/229 [00:00<?, ?B/s]"
      ]
     },
     "metadata": {},
     "output_type": "display_data"
    },
    {
     "data": {
      "application/vnd.jupyter.widget-view+json": {
       "model_id": "257fe95bb1aa4372a9bd39fec4d7ee23",
       "version_major": 2,
       "version_minor": 0
      },
      "text/plain": [
       "config_sentence_transformers.json:   0%|          | 0.00/122 [00:00<?, ?B/s]"
      ]
     },
     "metadata": {},
     "output_type": "display_data"
    },
    {
     "data": {
      "application/vnd.jupyter.widget-view+json": {
       "model_id": "eaf3b50686be47f8a862738b3fc7ad72",
       "version_major": 2,
       "version_minor": 0
      },
      "text/plain": [
       "README.md: 0.00B [00:00, ?B/s]"
      ]
     },
     "metadata": {},
     "output_type": "display_data"
    },
    {
     "data": {
      "application/vnd.jupyter.widget-view+json": {
       "model_id": "65948d2fc55644fbac3bbb72c99fe793",
       "version_major": 2,
       "version_minor": 0
      },
      "text/plain": [
       "sentence_bert_config.json:   0%|          | 0.00/53.0 [00:00<?, ?B/s]"
      ]
     },
     "metadata": {},
     "output_type": "display_data"
    },
    {
     "data": {
      "application/vnd.jupyter.widget-view+json": {
       "model_id": "85ee07c4eabe432dbd0fbcbd98b8e00a",
       "version_major": 2,
       "version_minor": 0
      },
      "text/plain": [
       "config.json:   0%|          | 0.00/827 [00:00<?, ?B/s]"
      ]
     },
     "metadata": {},
     "output_type": "display_data"
    },
    {
     "data": {
      "application/vnd.jupyter.widget-view+json": {
       "model_id": "9eec9d78348d499bbc9ee78fdae0c242",
       "version_major": 2,
       "version_minor": 0
      },
      "text/plain": [
       "model.safetensors:   0%|          | 0.00/46.7M [00:00<?, ?B/s]"
      ]
     },
     "metadata": {},
     "output_type": "display_data"
    },
    {
     "data": {
      "application/vnd.jupyter.widget-view+json": {
       "model_id": "16a3235c1aae4825a05cdde74efeb557",
       "version_major": 2,
       "version_minor": 0
      },
      "text/plain": [
       "tokenizer_config.json:   0%|          | 0.00/465 [00:00<?, ?B/s]"
      ]
     },
     "metadata": {},
     "output_type": "display_data"
    },
    {
     "data": {
      "application/vnd.jupyter.widget-view+json": {
       "model_id": "a6188f30b9dd4ed6a39811a2d0aeee82",
       "version_major": 2,
       "version_minor": 0
      },
      "text/plain": [
       "spiece.model:   0%|          | 0.00/760k [00:00<?, ?B/s]"
      ]
     },
     "metadata": {},
     "output_type": "display_data"
    },
    {
     "data": {
      "application/vnd.jupyter.widget-view+json": {
       "model_id": "08856b02726346569a66cf885eaffcad",
       "version_major": 2,
       "version_minor": 0
      },
      "text/plain": [
       "tokenizer.json: 0.00B [00:00, ?B/s]"
      ]
     },
     "metadata": {},
     "output_type": "display_data"
    },
    {
     "data": {
      "application/vnd.jupyter.widget-view+json": {
       "model_id": "273145439e5048d48bf4c6cfd512ad22",
       "version_major": 2,
       "version_minor": 0
      },
      "text/plain": [
       "special_tokens_map.json:   0%|          | 0.00/245 [00:00<?, ?B/s]"
      ]
     },
     "metadata": {},
     "output_type": "display_data"
    },
    {
     "data": {
      "application/vnd.jupyter.widget-view+json": {
       "model_id": "aa3cc96489df4271a4a89608600f37f6",
       "version_major": 2,
       "version_minor": 0
      },
      "text/plain": [
       "config.json:   0%|          | 0.00/190 [00:00<?, ?B/s]"
      ]
     },
     "metadata": {},
     "output_type": "display_data"
    },
    {
     "data": {
      "application/vnd.jupyter.widget-view+json": {
       "model_id": "9484290d6f114d1f9e6b266570d78c68",
       "version_major": 2,
       "version_minor": 0
      },
      "text/plain": [
       "Batches:   0%|          | 0/7 [00:00<?, ?it/s]"
      ]
     },
     "metadata": {},
     "output_type": "display_data"
    },
    {
     "data": {
      "text/plain": [
       "array([[ 0.09555981,  0.70134825, -0.35925072, ..., -0.05219185,\n",
       "        -0.16049582, -0.2615482 ],\n",
       "       [ 0.34818646,  1.1079607 ,  0.63211244, ...,  0.23816934,\n",
       "        -0.46128872,  0.16892385],\n",
       "       [ 0.36398643,  0.8827627 ,  0.22964676, ...,  0.23237333,\n",
       "        -0.23009473,  0.04972326],\n",
       "       ...,\n",
       "       [ 0.23523195,  0.54717207, -0.42753276, ...,  0.07653392,\n",
       "        -0.06434369,  0.02065626],\n",
       "       [ 0.07911324,  0.78726274,  0.01741543, ..., -0.23654222,\n",
       "        -0.28497446,  0.1203464 ],\n",
       "       [ 0.26135147,  0.20814468, -0.47471341, ...,  0.135339  ,\n",
       "        -0.04912402,  0.19739169]], dtype=float32)"
      ]
     },
     "execution_count": 58,
     "metadata": {},
     "output_type": "execute_result"
    }
   ],
   "source": [
    "modello = SentenceTransformer(\"paraphrase-albert-small-v2\") #usato a lezione\n",
    "commenti = df[\"Commenti\"].tolist()\n",
    "embedding_commenti = modello.encode(commenti)\n",
    "embedding_commenti"
   ]
  },
  {
   "cell_type": "code",
   "execution_count": null,
   "metadata": {
    "execution": {
     "iopub.execute_input": "2025-06-26T07:52:03.957481Z",
     "iopub.status.busy": "2025-06-26T07:52:03.957159Z",
     "iopub.status.idle": "2025-06-26T07:52:04.624988Z",
     "shell.execute_reply": "2025-06-26T07:52:04.624340Z",
     "shell.execute_reply.started": "2025-06-26T07:52:03.957462Z"
    },
    "trusted": true
   },
   "outputs": [
    {
     "data": {
      "application/vnd.jupyter.widget-view+json": {
       "model_id": "4fc482f83cd940db94f5be3ed289478b",
       "version_major": 2,
       "version_minor": 0
      },
      "text/plain": [
       "Batches:   0%|          | 0/1 [00:00<?, ?it/s]"
      ]
     },
     "metadata": {},
     "output_type": "display_data"
    },
    {
     "data": {
      "application/vnd.jupyter.widget-view+json": {
       "model_id": "10e61451ce844547bf135875fdcd723d",
       "version_major": 2,
       "version_minor": 0
      },
      "text/plain": [
       "Batches:   0%|          | 0/1 [00:00<?, ?it/s]"
      ]
     },
     "metadata": {},
     "output_type": "display_data"
    },
    {
     "data": {
      "application/vnd.jupyter.widget-view+json": {
       "model_id": "ea77e90d26cc49de908cdf831408cae7",
       "version_major": 2,
       "version_minor": 0
      },
      "text/plain": [
       "Batches:   0%|          | 0/1 [00:00<?, ?it/s]"
      ]
     },
     "metadata": {},
     "output_type": "display_data"
    },
    {
     "data": {
      "application/vnd.jupyter.widget-view+json": {
       "model_id": "b707258ab1fe4a45abde67476432a557",
       "version_major": 2,
       "version_minor": 0
      },
      "text/plain": [
       "Batches:   0%|          | 0/1 [00:00<?, ?it/s]"
      ]
     },
     "metadata": {},
     "output_type": "display_data"
    },
    {
     "data": {
      "application/vnd.jupyter.widget-view+json": {
       "model_id": "3ae48bf045bf4fc4870b5a4b8f33a382",
       "version_major": 2,
       "version_minor": 0
      },
      "text/plain": [
       "Batches:   0%|          | 0/1 [00:00<?, ?it/s]"
      ]
     },
     "metadata": {},
     "output_type": "display_data"
    },
    {
     "data": {
      "application/vnd.jupyter.widget-view+json": {
       "model_id": "b595ad047ebc4677b4be1fe864001f4d",
       "version_major": 2,
       "version_minor": 0
      },
      "text/plain": [
       "Batches:   0%|          | 0/1 [00:00<?, ?it/s]"
      ]
     },
     "metadata": {},
     "output_type": "display_data"
    },
    {
     "data": {
      "application/vnd.jupyter.widget-view+json": {
       "model_id": "3ac14f284e8d4f24bb2748ccc046cf9d",
       "version_major": 2,
       "version_minor": 0
      },
      "text/plain": [
       "Batches:   0%|          | 0/1 [00:00<?, ?it/s]"
      ]
     },
     "metadata": {},
     "output_type": "display_data"
    },
    {
     "data": {
      "application/vnd.jupyter.widget-view+json": {
       "model_id": "b204ab2fd37848b189ac0c897ee9a670",
       "version_major": 2,
       "version_minor": 0
      },
      "text/plain": [
       "Batches:   0%|          | 0/1 [00:00<?, ?it/s]"
      ]
     },
     "metadata": {},
     "output_type": "display_data"
    },
    {
     "data": {
      "application/vnd.jupyter.widget-view+json": {
       "model_id": "67315560687b4eb08c4aa25387e77b4c",
       "version_major": 2,
       "version_minor": 0
      },
      "text/plain": [
       "Batches:   0%|          | 0/1 [00:00<?, ?it/s]"
      ]
     },
     "metadata": {},
     "output_type": "display_data"
    },
    {
     "data": {
      "application/vnd.jupyter.widget-view+json": {
       "model_id": "7637ee6b10ec49e695adca5b6984676c",
       "version_major": 2,
       "version_minor": 0
      },
      "text/plain": [
       "Batches:   0%|          | 0/1 [00:00<?, ?it/s]"
      ]
     },
     "metadata": {},
     "output_type": "display_data"
    },
    {
     "data": {
      "application/vnd.jupyter.widget-view+json": {
       "model_id": "6aaaf3933b724e4d86fdb4495d60f745",
       "version_major": 2,
       "version_minor": 0
      },
      "text/plain": [
       "Batches:   0%|          | 0/1 [00:00<?, ?it/s]"
      ]
     },
     "metadata": {},
     "output_type": "display_data"
    },
    {
     "data": {
      "application/vnd.jupyter.widget-view+json": {
       "model_id": "0ba54b65cd364e0891e55829871f2f83",
       "version_major": 2,
       "version_minor": 0
      },
      "text/plain": [
       "Batches:   0%|          | 0/1 [00:00<?, ?it/s]"
      ]
     },
     "metadata": {},
     "output_type": "display_data"
    },
    {
     "data": {
      "application/vnd.jupyter.widget-view+json": {
       "model_id": "5db98c7fe1284538b822ac081023ba08",
       "version_major": 2,
       "version_minor": 0
      },
      "text/plain": [
       "Batches:   0%|          | 0/1 [00:00<?, ?it/s]"
      ]
     },
     "metadata": {},
     "output_type": "display_data"
    },
    {
     "data": {
      "application/vnd.jupyter.widget-view+json": {
       "model_id": "25dca445bbad4efa917d902e240d3ed8",
       "version_major": 2,
       "version_minor": 0
      },
      "text/plain": [
       "Batches:   0%|          | 0/1 [00:00<?, ?it/s]"
      ]
     },
     "metadata": {},
     "output_type": "display_data"
    },
    {
     "data": {
      "application/vnd.jupyter.widget-view+json": {
       "model_id": "7ef74a8c675d4e7dab8c6c2006864477",
       "version_major": 2,
       "version_minor": 0
      },
      "text/plain": [
       "Batches:   0%|          | 0/1 [00:00<?, ?it/s]"
      ]
     },
     "metadata": {},
     "output_type": "display_data"
    },
    {
     "data": {
      "text/html": [
       "<div>\n",
       "<style scoped>\n",
       "    .dataframe tbody tr th:only-of-type {\n",
       "        vertical-align: middle;\n",
       "    }\n",
       "\n",
       "    .dataframe tbody tr th {\n",
       "        vertical-align: top;\n",
       "    }\n",
       "\n",
       "    .dataframe thead th {\n",
       "        text-align: right;\n",
       "    }\n",
       "</style>\n",
       "<table border=\"1\" class=\"dataframe\">\n",
       "  <thead>\n",
       "    <tr style=\"text-align: right;\">\n",
       "      <th></th>\n",
       "      <th>Commenti</th>\n",
       "      <th>Emozioni_manuali</th>\n",
       "      <th>Emozioni_predette</th>\n",
       "    </tr>\n",
       "  </thead>\n",
       "  <tbody>\n",
       "    <tr>\n",
       "      <th>0</th>\n",
       "      <td>riapro questo topic qui, il tema è stato più v...</td>\n",
       "      <td>Frustrazione</td>\n",
       "      <td>Speranza</td>\n",
       "    </tr>\n",
       "    <tr>\n",
       "      <th>1</th>\n",
       "      <td>Andrò controcorrente evitando di dire che se n...</td>\n",
       "      <td>Frustrazione</td>\n",
       "      <td>Frustrazione</td>\n",
       "    </tr>\n",
       "    <tr>\n",
       "      <th>2</th>\n",
       "      <td>Su tinder devi avere il gold o il platino ma d...</td>\n",
       "      <td>Scetticismo</td>\n",
       "      <td>Scetticismo</td>\n",
       "    </tr>\n",
       "    <tr>\n",
       "      <th>3</th>\n",
       "      <td>Si tutti scam, ci sono stati anche dei servizi...</td>\n",
       "      <td>Frustrazione</td>\n",
       "      <td>Frustrazione</td>\n",
       "    </tr>\n",
       "    <tr>\n",
       "      <th>4</th>\n",
       "      <td>Peggio che nella vita reale, in queste app i r...</td>\n",
       "      <td>Frustrazione</td>\n",
       "      <td>Scetticismo</td>\n",
       "    </tr>\n",
       "    <tr>\n",
       "      <th>5</th>\n",
       "      <td>hai spiegato perfettamente perchè queste app n...</td>\n",
       "      <td>Frustrazione</td>\n",
       "      <td>Scetticismo</td>\n",
       "    </tr>\n",
       "    <tr>\n",
       "      <th>6</th>\n",
       "      <td>per me tutte le dating app andrebbero bannate ...</td>\n",
       "      <td>Frustrazione</td>\n",
       "      <td>Frustrazione</td>\n",
       "    </tr>\n",
       "    <tr>\n",
       "      <th>7</th>\n",
       "      <td>Crude le dating apps</td>\n",
       "      <td>Frustrazione</td>\n",
       "      <td>Frustrazione</td>\n",
       "    </tr>\n",
       "    <tr>\n",
       "      <th>8</th>\n",
       "      <td>si , pure io ho avuto questa impressione\\n tin...</td>\n",
       "      <td>Speranza</td>\n",
       "      <td>Speranza</td>\n",
       "    </tr>\n",
       "    <tr>\n",
       "      <th>9</th>\n",
       "      <td>Giusto ieri abbiamo spottato con dei miei amic...</td>\n",
       "      <td>Frustrazione</td>\n",
       "      <td>Speranza</td>\n",
       "    </tr>\n",
       "  </tbody>\n",
       "</table>\n",
       "</div>"
      ],
      "text/plain": [
       "                                            Commenti Emozioni_manuali  \\\n",
       "0  riapro questo topic qui, il tema è stato più v...     Frustrazione   \n",
       "1  Andrò controcorrente evitando di dire che se n...     Frustrazione   \n",
       "2  Su tinder devi avere il gold o il platino ma d...      Scetticismo   \n",
       "3  Si tutti scam, ci sono stati anche dei servizi...     Frustrazione   \n",
       "4  Peggio che nella vita reale, in queste app i r...     Frustrazione   \n",
       "5  hai spiegato perfettamente perchè queste app n...     Frustrazione   \n",
       "6  per me tutte le dating app andrebbero bannate ...     Frustrazione   \n",
       "7                               Crude le dating apps     Frustrazione   \n",
       "8  si , pure io ho avuto questa impressione\\n tin...         Speranza   \n",
       "9  Giusto ieri abbiamo spottato con dei miei amic...     Frustrazione   \n",
       "\n",
       "  Emozioni_predette  \n",
       "0          Speranza  \n",
       "1      Frustrazione  \n",
       "2       Scetticismo  \n",
       "3      Frustrazione  \n",
       "4       Scetticismo  \n",
       "5       Scetticismo  \n",
       "6      Frustrazione  \n",
       "7      Frustrazione  \n",
       "8          Speranza  \n",
       "9          Speranza  "
      ]
     },
     "metadata": {},
     "output_type": "display_data"
    },
    {
     "name": "stdout",
     "output_type": "stream",
     "text": [
      "File aggiornato: Dataset_FDB_emoz.csv\n"
     ]
    }
   ],
   "source": [
    "emb_emozioni = {}\n",
    "for emozione, frasi in Emozioni.items():\n",
    "    embeddings = []\n",
    "    for frase in frasi:\n",
    "        embedding = modello.encode(frase)\n",
    "        embeddings.append(embedding)\n",
    "    emb_emozioni[emozione] = embeddings\n",
    "etichette_emozioni = list(emb_emozioni.keys())\n",
    "\n",
    "Emozioni_predette = []\n",
    "for emb_commento in embedding_commenti: \n",
    "    similarita_massime = []\n",
    "    etichetta_corrispondente = []\n",
    "    for emozione in etichette_emozioni:\n",
    "        sim_frasis = [cos_sim(emb_commento, emb_frase).mean().item() \n",
    "                      for emb_frase in emb_emozioni[emozione]]\n",
    "        max_sim = max(sim_frasis)\n",
    "        similarita_massime.append(max_sim)\n",
    "        etichetta_corrispondente.append(emozione)\n",
    "\n",
    "    idx_max = np.argmax(similarita_massime)\n",
    "    emozione_predetta = etichetta_corrispondente[idx_max]\n",
    "    Emozioni_predette.append(emozione_predetta)\n",
    "\n",
    "df[\"Emozioni_predette\"] = Emozioni_predette\n",
    "display(df[[\"Commenti\", \"Emozioni_manuali\", \"Emozioni_predette\"]].head(10))\n",
    "df.to_csv(\"Dataset_FDB_emoz.csv\", index=False, encoding=\"utf-8\")\n",
    "print(\"File aggiornato: Dataset_FDB_emoz.csv\")"
   ]
  },
  {
   "cell_type": "code",
   "execution_count": null,
   "metadata": {
    "execution": {
     "iopub.execute_input": "2025-06-26T07:52:47.760959Z",
     "iopub.status.busy": "2025-06-26T07:52:47.760668Z",
     "iopub.status.idle": "2025-06-26T07:52:47.947211Z",
     "shell.execute_reply": "2025-06-26T07:52:47.946551Z",
     "shell.execute_reply.started": "2025-06-26T07:52:47.760940Z"
    },
    "trusted": true
   },
   "outputs": [
    {
     "data": {
      "image/png": "[encoded data removed]",
      "text/plain": [
       "<Figure size 800x500 with 1 Axes>"
      ]
     },
     "metadata": {},
     "output_type": "display_data"
    }
   ],
   "source": [
    "#GENERIAMO IL GRAFICO:\n",
    "palette_rossa = [\"#ef9a9a\", \"#e57373\", \"#ef5350\", \"#c62828\"]\n",
    "sns.set(style=\"whitegrid\")\n",
    "plt.figure(figsize=(8, 5))\n",
    "sns.countplot(data=df, x=\"Emozioni_predette\", palette=palette_rossa)\n",
    "\n",
    "#Titolo ed etichette\n",
    "plt.title(\"Distribuzione delle emozioni predette\")\n",
    "plt.xlabel(\"Emozioni\")\n",
    "plt.ylabel(\"Numero di commenti\")\n",
    "plt.tight_layout()\n",
    "plt.show()"
   ]
  },
  {
   "cell_type": "code",
   "execution_count": null,
   "metadata": {
    "execution": {
     "iopub.execute_input": "2025-06-26T07:52:51.342479Z",
     "iopub.status.busy": "2025-06-26T07:52:51.341885Z",
     "iopub.status.idle": "2025-06-26T07:52:51.359927Z",
     "shell.execute_reply": "2025-06-26T07:52:51.359200Z",
     "shell.execute_reply.started": "2025-06-26T07:52:51.342456Z"
    },
    "trusted": true
   },
   "outputs": [
    {
     "name": "stdout",
     "output_type": "stream",
     "text": [
      "Report di valutazione tra etichette manuali e predette:\n",
      "              precision    recall  f1-score   support\n",
      "\n",
      "Frustrazione       0.79      0.16      0.27       161\n",
      " Scetticismo       0.13      0.71      0.22        24\n",
      "    Speranza       0.25      0.48      0.33        27\n",
      "\n",
      "    accuracy                           0.26       212\n",
      "   macro avg       0.39      0.45      0.28       212\n",
      "weighted avg       0.65      0.26      0.27       212\n",
      "\n"
     ]
    }
   ],
   "source": [
    "df = pd.read_csv(\"Dataset_FDB_emoz.csv\")\n",
    "\n",
    "if \"Emozioni_manuali\" in df.columns and \"Emozioni_predette\" in df.columns:\n",
    "    print(\"Report di valutazione tra etichette manuali e predette:\")\n",
    "    print(classification_report(df[\"Emozioni_manuali\"], df[\"Emozioni_predette\"]))"
   ]
  },
  {
   "cell_type": "markdown",
   "metadata": {},
   "source": [
    "#### Report di valutazione\n",
    "L'**accuracy** complessiva è del 26%: performance inaccettabile per qualsiasi applicazione pratica, anche il **Recall** è molto basso per **\"Frustrazione\"** (0.16), in quanto il modello perde l'84% dei casi reali.\n",
    "**Precision** pessima per **\"Scetticismo\"** (0.13): ogni predizione ha solo il 13% di probabilità di essere corretta.\n",
    "**F1-scores** in generale sempre bassi su tutte le classi (0.22-0.33), indicando un fallimento sistemico, ma **Recall** dello **\"Scetticismo\"** (0.71): pur con precision bassa, riesce a catturare la maggior parte dei casi reali di questa classe.\n",
    "\n",
    "Il divario tra weighted average (precision 0.65) e macro average (precision 0.39) evidenzia come la classe dominante \"Frustrazione\" influenzi artificialmente le metriche ponderate. La macro average rivela la reale incapacità del modello di gestire tutte le classi equamente."
   ]
  },
  {
   "cell_type": "code",
   "execution_count": null,
   "metadata": {
    "execution": {
     "iopub.execute_input": "2025-06-26T07:52:54.624630Z",
     "iopub.status.busy": "2025-06-26T07:52:54.624349Z",
     "iopub.status.idle": "2025-06-26T07:52:54.826294Z",
     "shell.execute_reply": "2025-06-26T07:52:54.825604Z",
     "shell.execute_reply.started": "2025-06-26T07:52:54.624611Z"
    },
    "trusted": true
   },
   "outputs": [
    {
     "data": {
      "image/png": "[encoded data removed]",
      "text/plain": [
       "<Figure size 640x480 with 2 Axes>"
      ]
     },
     "metadata": {},
     "output_type": "display_data"
    }
   ],
   "source": [
    "#Matrice di confusione\n",
    "df = pd.read_csv(\"Dataset_FDB_emoz.csv\")\n",
    "\n",
    "cm = confusion_matrix(df[\"Emozioni_manuali\"], df[\"Emozioni_predette\"])\n",
    "labels = sorted(df[\"Emozioni_manuali\"].unique())\n",
    "cm_display = ConfusionMatrixDisplay(confusion_matrix=cm, display_labels=labels)\n",
    "cm_display.plot()\n",
    "plt.title(\"Confusion Matrix – Emozioni\")\n",
    "plt.show()"
   ]
  },
  {
   "cell_type": "markdown",
   "metadata": {},
   "source": [
    "#### Matrice di confusione\n",
    "La matrice di confusione presenta i risultati di un modello sviluppato, per il riconoscimento automatico delle **emozioni** in testi italiani. Il sistema è progettato per classificare contenuti testuali in **tre stati emotivi** fondamentali: Frustrazione, Scetticismo e Speranza, rispettivamente:\n",
    "- **Frustrazione**: espressioni di disappunto, irritazione e insoddisfazione;\n",
    "- **Scetticismo**: manifestazioni di dubbio, diffidenza e atteggiamento critico;\n",
    "- **Speranza**: contenuti che trasmettono ottimismo, aspettative positive e fiducia nel futuro.\n",
    "\n",
    "Il pattern più evidente è la frequente predizione verso **\"Scetticismo\"** con 100 casi classificati come **\"Frustrazione\"** ma predetti come **\"Scetticismo\"**. Questo indica che il modello ha sviluppato un **bias** verso la classe centrale, probabilmente dovuto a **caratteristiche linguistiche sovrapposte tra le categorie emotive**.  \n",
    "\n",
    "Le classi **\"Scetticismo\"** e **\"Speranza\"** mostrano performance estremamente deboli con rispettivamente solo 17 e 13 true positives, mentre **\"Frustrazione\"** riesce a identificare correttamente solo 26 casi su 161 totali.   \n",
    "*Quindi possiamo affermare che il modello non riesce a catturare le sfumature distintive tra questi stati emotivi.*"
   ]
  },
  {
   "cell_type": "markdown",
   "metadata": {},
   "source": [
    "## CONCLUSIONI\n",
    "Dopo aver **analizzato automaticamente** *il sentiment, le tematiche e le emozioni* e confrontato i *risultati predetti automaticamente* con quelli dell'**annotazione manuale** condotta nella tesi di laurea triennale, emerge chiaramente che i modelli testati (Word2Vec, Word2Vec locale, Sentence Transformer) presentano performance inferiori rispetto al **gold standard** manuale.   \n",
    "\n",
    "Le **matrici di confusione**,relative alle tematiche e alle emozioni, rivelano **bias sistematici, collassi categoriali** e **distribuzioni asimmetriche** che compromettono l'affidabilità delle predizioni automatiche.  \n",
    "\n",
    "Per concludere le considerazioni su questo progetto posso affermare che, per utilizzare efficacemente questi modelli è sicuramente necessario un **dataset più ampio**, che possa fornire esempi rappresentativi sufficienti per ogni categoria e garantire performance comparabili a quelle dell'annotazione manuale. Inoltre, selezionare **più frasi standard** diventa fondamentale per far cogliere meglio le sfumature fra le diverse classi emotive e migliorare la capacità distintiva del modello."
   ]
  }
 ],
 "metadata": {
  "kaggle": {
   "accelerator": "nvidiaTeslaT4",
   "dataSources": [
    {
     "datasetId": 7720695,
     "sourceId": 12253279,
     "sourceType": "datasetVersion"
    },
    {
     "datasetId": 7724359,
     "sourceId": 12258215,
     "sourceType": "datasetVersion"
    },
    {
     "datasetId": 7728830,
     "sourceId": 12264956,
     "sourceType": "datasetVersion"
    }
   ],
   "dockerImageVersionId": 31040,
   "isGpuEnabled": true,
   "isInternetEnabled": true,
   "language": "python",
   "sourceType": "notebook"
  },
  "kernelspec": {
   "display_name": "Python 3",
   "language": "python",
   "name": "python3"
  },
  "language_info": {
   "codemirror_mode": {
    "name": "ipython",
    "version": 3
   },
   "file_extension": ".py",
   "mimetype": "text/x-python",
   "name": "python",
   "nbconvert_exporter": "python",
   "pygments_lexer": "ipython3",
   "version": "3.11.11"
  }
 },
 "nbformat": 4,
 "nbformat_minor": 4
}
